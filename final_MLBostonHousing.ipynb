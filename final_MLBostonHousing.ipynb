{
  "nbformat": 4,
  "nbformat_minor": 0,
  "metadata": {
    "kernelspec": {
      "display_name": "Python 3",
      "language": "python",
      "name": "python3"
    },
    "language_info": {
      "codemirror_mode": {
        "name": "ipython",
        "version": 3
      },
      "file_extension": ".py",
      "mimetype": "text/x-python",
      "name": "python",
      "nbconvert_exporter": "python",
      "pygments_lexer": "ipython3",
      "version": "3.6.8"
    },
    "nav_menu": {
      "height": "279px",
      "width": "309px"
    },
    "toc": {
      "nav_menu": {},
      "number_sections": true,
      "sideBar": true,
      "skip_h1_title": false,
      "toc_cell": false,
      "toc_position": {},
      "toc_section_display": "block",
      "toc_window_display": false
    },
    "colab": {
      "name": "final MLBostonHousing.ipynb",
      "provenance": [],
      "collapsed_sections": [
        "KwSe4uq7HqzM",
        "WfZmEAFsHqzN",
        "OzZlfjavHqzR",
        "q_SpMFopajCD",
        "Bk_O2Rfol7K1"
      ],
      "toc_visible": true,
      "include_colab_link": true
    }
  },
  "cells": [
    {
      "cell_type": "markdown",
      "metadata": {
        "id": "view-in-github",
        "colab_type": "text"
      },
      "source": [
        "<a href=\"https://colab.research.google.com/github/EliasHaddad00/MLBostonHousing/blob/master/final_MLBostonHousing.ipynb\" target=\"_parent\"><img src=\"https://colab.research.google.com/assets/colab-badge.svg\" alt=\"Open In Colab\"/></a>"
      ]
    },
    {
      "cell_type": "markdown",
      "metadata": {
        "id": "KwSe4uq7HqzM",
        "colab_type": "text"
      },
      "source": [
        "# Chapter 2 – End-to-end Machine Learning project\n",
        "\n",
        "*Welcome to Machine Learning Housing Corp.! Your task is to predict median house values in Californian districts, given a number of features from these districts.*\n",
        "\n",
        "*This notebook contains all the sample code and solutions to the exercices in chapter 2.*"
      ]
    },
    {
      "cell_type": "markdown",
      "metadata": {
        "id": "WfZmEAFsHqzN",
        "colab_type": "text"
      },
      "source": [
        "# Step 1. Big Picture & Setup (See the slides)"
      ]
    },
    {
      "cell_type": "markdown",
      "metadata": {
        "id": "JSJ8Lxx9HqzO",
        "colab_type": "text"
      },
      "source": [
        "First, let's import a few common modules, ensure MatplotLib plots figures inline and prepare a function to save the figures. We also check that Python 3.5 or later is installed (although Python 2.x may work, it is deprecated so we strongly recommend you use Python 3 instead), as well as Scikit-Learn ≥0.20."
      ]
    },
    {
      "cell_type": "code",
      "metadata": {
        "id": "j8FQhMlEHqzP",
        "colab_type": "code",
        "colab": {}
      },
      "source": [
        "# Python ≥3.5 is required\n",
        "#import sys #\n",
        "# Scikit-Learn ≥0.20 is required\n",
        "import sklearn # general ml package\n",
        "\n",
        "# Common imports\n",
        "import numpy as np # fundamental package for scientific computing\n",
        "import os # to run file I/O operation \n",
        "\n",
        "# to make this notebook's output stable across runs\n",
        "# any number will do, as long as it is used consistently\n",
        "np.random.seed(42)\n",
        "\n",
        "# To plot pretty figures\n",
        "%matplotlib inline\n",
        "import matplotlib as mpl\n",
        "import matplotlib.pyplot as plt\n",
        "mpl.rc('axes', labelsize=14)\n",
        "mpl.rc('xtick', labelsize=12)\n",
        "mpl.rc('ytick', labelsize=12)\n",
        "\n",
        "# Where to save the figures\n",
        "PROJECT_ROOT_DIR = \".\"\n",
        "CHAPTER_ID = \"end_to_end_project\"\n",
        "IMAGES_PATH = os.path.join(PROJECT_ROOT_DIR, \"images\", CHAPTER_ID)\n",
        "os.makedirs(IMAGES_PATH, exist_ok=True)\n",
        "\n",
        "def save_fig(fig_id, tight_layout=True, fig_extension=\"png\", resolution=300):\n",
        "  \"\"\"Save the selected figure into disc under an image extention and resolution\n",
        "\n",
        "  Parameters\n",
        "  ----------\n",
        "  fig_id : figure handle\n",
        "    The id number of the figure\n",
        "  tight_layout : boolean (True or False)\n",
        "    Specifies whenther the layout should be tight or not\n",
        "  fig_extension: string\n",
        "    Under what extension should the file be saved (\"png\" or \"jpg\")\n",
        "  resolution: int\n",
        "    the quality of the figure (ie. 100,200,300)\n",
        "\n",
        "  Returns\n",
        "  -------\n",
        "  void\n",
        "    Does not return any value\n",
        "  \"\"\"\n",
        "\n",
        "  path = os.path.join(IMAGES_PATH, fig_id + \".\" + fig_extension)\n",
        "  print(\"Saving figure\", fig_id)\n",
        "  if tight_layout:\n",
        "    plt.tight_layout()\n",
        "  plt.savefig(path, format=fig_extension, dpi=resolution)"
      ],
      "execution_count": null,
      "outputs": []
    },
    {
      "cell_type": "markdown",
      "metadata": {
        "id": "OzZlfjavHqzR",
        "colab_type": "text"
      },
      "source": [
        "# Step 2. Get the data"
      ]
    },
    {
      "cell_type": "code",
      "metadata": {
        "id": "pPX2bLAsHqzS",
        "colab_type": "code",
        "colab": {
          "base_uri": "https://localhost:8080/",
          "height": 37
        },
        "outputId": "a7ccf783-7e12-4927-fdef-3d99aca835d0"
      },
      "source": [
        "import tarfile # to support compressed (tar) files\n",
        "from six.moves import urllib # support URL download\n",
        "\n",
        "#DOWNLOAD_ROOT = \"https://raw.githubusercontent.com/ageron/handson-ml2/master/\"\n",
        "HOUSING_PATH = os.path.join(\"datasets\", \"housing\")\n",
        "if not os.path.isdir(HOUSING_PATH):\n",
        "        os.makedirs(HOUSING_PATH)\n",
        "'''\n",
        "Must manaully insert to housing file\n",
        "'''"
      ],
      "execution_count": null,
      "outputs": [
        {
          "output_type": "execute_result",
          "data": {
            "application/vnd.google.colaboratory.intrinsic+json": {
              "type": "string"
            },
            "text/plain": [
              "'\\nMust manaully insert to housing file\\n'"
            ]
          },
          "metadata": {
            "tags": []
          },
          "execution_count": 77
        }
      ]
    },
    {
      "cell_type": "code",
      "metadata": {
        "id": "E8EicCvEHqzY",
        "colab_type": "code",
        "colab": {
          "base_uri": "https://localhost:8080/",
          "height": 359
        },
        "outputId": "775ff36f-2b81-4df0-a7c7-bdb4eba9ae90"
      },
      "source": [
        "import pandas as pd # Pandas module to enable data manipulation\n",
        "\n",
        "def load_housing_data(housing_path=HOUSING_PATH):\n",
        "    \"\"\"Load Housing Data into Workspace from a CSV\"\"\"\n",
        "    csv_path = os.path.join(housing_path, \"housing.csv\")\n",
        "    return pd.read_csv(csv_path)\n",
        "\n",
        "housing = load_housing_data()\n",
        "# Display the first n rows of the data. (n=5 by default, we will use 10 rows)\n",
        "housing.head(10)"
      ],
      "execution_count": null,
      "outputs": [
        {
          "output_type": "execute_result",
          "data": {
            "text/html": [
              "<div>\n",
              "<style scoped>\n",
              "    .dataframe tbody tr th:only-of-type {\n",
              "        vertical-align: middle;\n",
              "    }\n",
              "\n",
              "    .dataframe tbody tr th {\n",
              "        vertical-align: top;\n",
              "    }\n",
              "\n",
              "    .dataframe thead th {\n",
              "        text-align: right;\n",
              "    }\n",
              "</style>\n",
              "<table border=\"1\" class=\"dataframe\">\n",
              "  <thead>\n",
              "    <tr style=\"text-align: right;\">\n",
              "      <th></th>\n",
              "      <th>CRIM</th>\n",
              "      <th>ZN</th>\n",
              "      <th>INDUS</th>\n",
              "      <th>CHAS</th>\n",
              "      <th>NOX</th>\n",
              "      <th>RM</th>\n",
              "      <th>AGE</th>\n",
              "      <th>DIS</th>\n",
              "      <th>RAD</th>\n",
              "      <th>TAX</th>\n",
              "      <th>PTRATIO</th>\n",
              "      <th>B1000(BK0.63)^2</th>\n",
              "      <th>LSTAT%</th>\n",
              "      <th>MEDV</th>\n",
              "    </tr>\n",
              "  </thead>\n",
              "  <tbody>\n",
              "    <tr>\n",
              "      <th>0</th>\n",
              "      <td>0.00632</td>\n",
              "      <td>18.0</td>\n",
              "      <td>2.31</td>\n",
              "      <td>0</td>\n",
              "      <td>0.538</td>\n",
              "      <td>6.575</td>\n",
              "      <td>65.2</td>\n",
              "      <td>4.0900</td>\n",
              "      <td>1</td>\n",
              "      <td>296.0</td>\n",
              "      <td>15.3</td>\n",
              "      <td>396.90</td>\n",
              "      <td>4.98</td>\n",
              "      <td>24.0</td>\n",
              "    </tr>\n",
              "    <tr>\n",
              "      <th>1</th>\n",
              "      <td>0.02731</td>\n",
              "      <td>0.0</td>\n",
              "      <td>7.07</td>\n",
              "      <td>0</td>\n",
              "      <td>0.469</td>\n",
              "      <td>6.421</td>\n",
              "      <td>78.9</td>\n",
              "      <td>4.9671</td>\n",
              "      <td>2</td>\n",
              "      <td>242.0</td>\n",
              "      <td>17.8</td>\n",
              "      <td>396.90</td>\n",
              "      <td>9.14</td>\n",
              "      <td>21.6</td>\n",
              "    </tr>\n",
              "    <tr>\n",
              "      <th>2</th>\n",
              "      <td>0.02729</td>\n",
              "      <td>0.0</td>\n",
              "      <td>7.07</td>\n",
              "      <td>0</td>\n",
              "      <td>0.469</td>\n",
              "      <td>7.185</td>\n",
              "      <td>61.1</td>\n",
              "      <td>4.9671</td>\n",
              "      <td>2</td>\n",
              "      <td>242.0</td>\n",
              "      <td>17.8</td>\n",
              "      <td>392.83</td>\n",
              "      <td>4.03</td>\n",
              "      <td>34.7</td>\n",
              "    </tr>\n",
              "    <tr>\n",
              "      <th>3</th>\n",
              "      <td>0.03237</td>\n",
              "      <td>0.0</td>\n",
              "      <td>2.18</td>\n",
              "      <td>0</td>\n",
              "      <td>0.458</td>\n",
              "      <td>6.998</td>\n",
              "      <td>45.8</td>\n",
              "      <td>6.0622</td>\n",
              "      <td>3</td>\n",
              "      <td>222.0</td>\n",
              "      <td>18.7</td>\n",
              "      <td>394.63</td>\n",
              "      <td>2.94</td>\n",
              "      <td>33.4</td>\n",
              "    </tr>\n",
              "    <tr>\n",
              "      <th>4</th>\n",
              "      <td>0.06905</td>\n",
              "      <td>0.0</td>\n",
              "      <td>2.18</td>\n",
              "      <td>0</td>\n",
              "      <td>0.458</td>\n",
              "      <td>7.147</td>\n",
              "      <td>54.2</td>\n",
              "      <td>6.0622</td>\n",
              "      <td>3</td>\n",
              "      <td>222.0</td>\n",
              "      <td>18.7</td>\n",
              "      <td>396.90</td>\n",
              "      <td>5.33</td>\n",
              "      <td>36.2</td>\n",
              "    </tr>\n",
              "    <tr>\n",
              "      <th>5</th>\n",
              "      <td>0.02985</td>\n",
              "      <td>0.0</td>\n",
              "      <td>2.18</td>\n",
              "      <td>0</td>\n",
              "      <td>0.458</td>\n",
              "      <td>6.430</td>\n",
              "      <td>58.7</td>\n",
              "      <td>6.0622</td>\n",
              "      <td>3</td>\n",
              "      <td>222.0</td>\n",
              "      <td>18.7</td>\n",
              "      <td>394.12</td>\n",
              "      <td>5.21</td>\n",
              "      <td>28.7</td>\n",
              "    </tr>\n",
              "    <tr>\n",
              "      <th>6</th>\n",
              "      <td>0.08829</td>\n",
              "      <td>12.5</td>\n",
              "      <td>7.87</td>\n",
              "      <td>0</td>\n",
              "      <td>0.524</td>\n",
              "      <td>6.012</td>\n",
              "      <td>66.6</td>\n",
              "      <td>5.5605</td>\n",
              "      <td>5</td>\n",
              "      <td>311.0</td>\n",
              "      <td>15.2</td>\n",
              "      <td>395.60</td>\n",
              "      <td>12.43</td>\n",
              "      <td>22.9</td>\n",
              "    </tr>\n",
              "    <tr>\n",
              "      <th>7</th>\n",
              "      <td>0.14455</td>\n",
              "      <td>12.5</td>\n",
              "      <td>7.87</td>\n",
              "      <td>0</td>\n",
              "      <td>0.524</td>\n",
              "      <td>6.172</td>\n",
              "      <td>96.1</td>\n",
              "      <td>5.9505</td>\n",
              "      <td>5</td>\n",
              "      <td>311.0</td>\n",
              "      <td>15.2</td>\n",
              "      <td>396.90</td>\n",
              "      <td>19.15</td>\n",
              "      <td>27.1</td>\n",
              "    </tr>\n",
              "    <tr>\n",
              "      <th>8</th>\n",
              "      <td>0.21124</td>\n",
              "      <td>12.5</td>\n",
              "      <td>7.87</td>\n",
              "      <td>0</td>\n",
              "      <td>0.524</td>\n",
              "      <td>5.631</td>\n",
              "      <td>100.0</td>\n",
              "      <td>6.0821</td>\n",
              "      <td>5</td>\n",
              "      <td>311.0</td>\n",
              "      <td>15.2</td>\n",
              "      <td>386.63</td>\n",
              "      <td>29.93</td>\n",
              "      <td>16.5</td>\n",
              "    </tr>\n",
              "    <tr>\n",
              "      <th>9</th>\n",
              "      <td>0.17004</td>\n",
              "      <td>12.5</td>\n",
              "      <td>7.87</td>\n",
              "      <td>0</td>\n",
              "      <td>0.524</td>\n",
              "      <td>6.004</td>\n",
              "      <td>85.9</td>\n",
              "      <td>6.5921</td>\n",
              "      <td>5</td>\n",
              "      <td>311.0</td>\n",
              "      <td>15.2</td>\n",
              "      <td>386.71</td>\n",
              "      <td>17.10</td>\n",
              "      <td>18.9</td>\n",
              "    </tr>\n",
              "  </tbody>\n",
              "</table>\n",
              "</div>"
            ],
            "text/plain": [
              "      CRIM    ZN  INDUS  CHAS  ...  PTRATIO  B1000(BK0.63)^2  LSTAT%  MEDV\n",
              "0  0.00632  18.0   2.31     0  ...     15.3           396.90    4.98  24.0\n",
              "1  0.02731   0.0   7.07     0  ...     17.8           396.90    9.14  21.6\n",
              "2  0.02729   0.0   7.07     0  ...     17.8           392.83    4.03  34.7\n",
              "3  0.03237   0.0   2.18     0  ...     18.7           394.63    2.94  33.4\n",
              "4  0.06905   0.0   2.18     0  ...     18.7           396.90    5.33  36.2\n",
              "5  0.02985   0.0   2.18     0  ...     18.7           394.12    5.21  28.7\n",
              "6  0.08829  12.5   7.87     0  ...     15.2           395.60   12.43  22.9\n",
              "7  0.14455  12.5   7.87     0  ...     15.2           396.90   19.15  27.1\n",
              "8  0.21124  12.5   7.87     0  ...     15.2           386.63   29.93  16.5\n",
              "9  0.17004  12.5   7.87     0  ...     15.2           386.71   17.10  18.9\n",
              "\n",
              "[10 rows x 14 columns]"
            ]
          },
          "metadata": {
            "tags": []
          },
          "execution_count": 78
        }
      ]
    },
    {
      "cell_type": "code",
      "metadata": {
        "id": "M3PJ46niHqzc",
        "colab_type": "code",
        "colab": {
          "base_uri": "https://localhost:8080/",
          "height": 374
        },
        "outputId": "14e1451e-f433-44c3-a211-0353930625da"
      },
      "source": [
        "# Provide a quick summary of the data including name of features, count, and type\n",
        "housing.info()"
      ],
      "execution_count": null,
      "outputs": [
        {
          "output_type": "stream",
          "text": [
            "<class 'pandas.core.frame.DataFrame'>\n",
            "RangeIndex: 506 entries, 0 to 505\n",
            "Data columns (total 14 columns):\n",
            " #   Column           Non-Null Count  Dtype  \n",
            "---  ------           --------------  -----  \n",
            " 0   CRIM             506 non-null    float64\n",
            " 1   ZN               506 non-null    float64\n",
            " 2   INDUS            506 non-null    float64\n",
            " 3   CHAS             506 non-null    int64  \n",
            " 4   NOX              506 non-null    float64\n",
            " 5   RM               506 non-null    float64\n",
            " 6   AGE              506 non-null    float64\n",
            " 7   DIS              506 non-null    float64\n",
            " 8   RAD              506 non-null    int64  \n",
            " 9   TAX              506 non-null    float64\n",
            " 10  PTRATIO          506 non-null    float64\n",
            " 11  B1000(BK0.63)^2  506 non-null    float64\n",
            " 12  LSTAT%           506 non-null    float64\n",
            " 13  MEDV             506 non-null    float64\n",
            "dtypes: float64(12), int64(2)\n",
            "memory usage: 55.5 KB\n"
          ],
          "name": "stdout"
        }
      ]
    },
    {
      "cell_type": "code",
      "metadata": {
        "id": "YH136dWgHqze",
        "colab_type": "code",
        "colab": {
          "base_uri": "https://localhost:8080/",
          "height": 221
        },
        "outputId": "128ad0e7-15b3-46ca-ebd3-26e818b8690a"
      },
      "source": [
        "# View the counts of each value in the \"ocean_proximity\" feature\n",
        "housing[\"AGE\"].value_counts()"
      ],
      "execution_count": null,
      "outputs": [
        {
          "output_type": "execute_result",
          "data": {
            "text/plain": [
              "100.0    43\n",
              "96.0      4\n",
              "98.2      4\n",
              "95.4      4\n",
              "97.9      4\n",
              "         ..\n",
              "47.6      1\n",
              "92.7      1\n",
              "13.9      1\n",
              "58.4      1\n",
              "40.1      1\n",
              "Name: AGE, Length: 356, dtype: int64"
            ]
          },
          "metadata": {
            "tags": []
          },
          "execution_count": 80
        }
      ]
    },
    {
      "cell_type": "code",
      "metadata": {
        "id": "BtqzTI8BHqzg",
        "colab_type": "code",
        "colab": {
          "base_uri": "https://localhost:8080/",
          "height": 317
        },
        "outputId": "9c61818b-8f33-4e09-eb8a-714393510481"
      },
      "source": [
        "# Provide some basic statistics about the dataset\n",
        "housing.describe()"
      ],
      "execution_count": null,
      "outputs": [
        {
          "output_type": "execute_result",
          "data": {
            "text/html": [
              "<div>\n",
              "<style scoped>\n",
              "    .dataframe tbody tr th:only-of-type {\n",
              "        vertical-align: middle;\n",
              "    }\n",
              "\n",
              "    .dataframe tbody tr th {\n",
              "        vertical-align: top;\n",
              "    }\n",
              "\n",
              "    .dataframe thead th {\n",
              "        text-align: right;\n",
              "    }\n",
              "</style>\n",
              "<table border=\"1\" class=\"dataframe\">\n",
              "  <thead>\n",
              "    <tr style=\"text-align: right;\">\n",
              "      <th></th>\n",
              "      <th>CRIM</th>\n",
              "      <th>ZN</th>\n",
              "      <th>INDUS</th>\n",
              "      <th>CHAS</th>\n",
              "      <th>NOX</th>\n",
              "      <th>RM</th>\n",
              "      <th>AGE</th>\n",
              "      <th>DIS</th>\n",
              "      <th>RAD</th>\n",
              "      <th>TAX</th>\n",
              "      <th>PTRATIO</th>\n",
              "      <th>B1000(BK0.63)^2</th>\n",
              "      <th>LSTAT%</th>\n",
              "      <th>MEDV</th>\n",
              "    </tr>\n",
              "  </thead>\n",
              "  <tbody>\n",
              "    <tr>\n",
              "      <th>count</th>\n",
              "      <td>506.000000</td>\n",
              "      <td>506.000000</td>\n",
              "      <td>506.00000</td>\n",
              "      <td>506.000000</td>\n",
              "      <td>506.000000</td>\n",
              "      <td>506.000000</td>\n",
              "      <td>506.000000</td>\n",
              "      <td>506.000000</td>\n",
              "      <td>506.000000</td>\n",
              "      <td>506.000000</td>\n",
              "      <td>506.000000</td>\n",
              "      <td>506.000000</td>\n",
              "      <td>506.000000</td>\n",
              "      <td>506.000000</td>\n",
              "    </tr>\n",
              "    <tr>\n",
              "      <th>mean</th>\n",
              "      <td>3.613524</td>\n",
              "      <td>11.166528</td>\n",
              "      <td>5.93915</td>\n",
              "      <td>0.069170</td>\n",
              "      <td>0.554695</td>\n",
              "      <td>6.284634</td>\n",
              "      <td>68.574901</td>\n",
              "      <td>3.696228</td>\n",
              "      <td>4.332016</td>\n",
              "      <td>408.237154</td>\n",
              "      <td>18.455534</td>\n",
              "      <td>356.674032</td>\n",
              "      <td>12.653063</td>\n",
              "      <td>22.532806</td>\n",
              "    </tr>\n",
              "    <tr>\n",
              "      <th>std</th>\n",
              "      <td>8.601545</td>\n",
              "      <td>22.990973</td>\n",
              "      <td>2.75991</td>\n",
              "      <td>0.253994</td>\n",
              "      <td>0.115878</td>\n",
              "      <td>0.702617</td>\n",
              "      <td>28.148861</td>\n",
              "      <td>1.999689</td>\n",
              "      <td>1.417166</td>\n",
              "      <td>168.537116</td>\n",
              "      <td>2.164946</td>\n",
              "      <td>91.294864</td>\n",
              "      <td>7.141062</td>\n",
              "      <td>9.197104</td>\n",
              "    </tr>\n",
              "    <tr>\n",
              "      <th>min</th>\n",
              "      <td>0.006320</td>\n",
              "      <td>0.000000</td>\n",
              "      <td>0.01000</td>\n",
              "      <td>0.000000</td>\n",
              "      <td>0.385000</td>\n",
              "      <td>3.561000</td>\n",
              "      <td>2.900000</td>\n",
              "      <td>0.585700</td>\n",
              "      <td>1.000000</td>\n",
              "      <td>187.000000</td>\n",
              "      <td>12.600000</td>\n",
              "      <td>0.320000</td>\n",
              "      <td>1.730000</td>\n",
              "      <td>5.000000</td>\n",
              "    </tr>\n",
              "    <tr>\n",
              "      <th>25%</th>\n",
              "      <td>0.082045</td>\n",
              "      <td>0.000000</td>\n",
              "      <td>3.66750</td>\n",
              "      <td>0.000000</td>\n",
              "      <td>0.449000</td>\n",
              "      <td>5.885500</td>\n",
              "      <td>45.025000</td>\n",
              "      <td>2.073700</td>\n",
              "      <td>4.000000</td>\n",
              "      <td>279.000000</td>\n",
              "      <td>17.400000</td>\n",
              "      <td>375.377500</td>\n",
              "      <td>6.950000</td>\n",
              "      <td>17.025000</td>\n",
              "    </tr>\n",
              "    <tr>\n",
              "      <th>50%</th>\n",
              "      <td>0.256510</td>\n",
              "      <td>0.001000</td>\n",
              "      <td>6.41000</td>\n",
              "      <td>0.000000</td>\n",
              "      <td>0.538000</td>\n",
              "      <td>6.208500</td>\n",
              "      <td>77.500000</td>\n",
              "      <td>3.107300</td>\n",
              "      <td>4.000000</td>\n",
              "      <td>330.000000</td>\n",
              "      <td>19.050000</td>\n",
              "      <td>391.440000</td>\n",
              "      <td>11.360000</td>\n",
              "      <td>21.200000</td>\n",
              "    </tr>\n",
              "    <tr>\n",
              "      <th>75%</th>\n",
              "      <td>3.677082</td>\n",
              "      <td>12.500000</td>\n",
              "      <td>8.10000</td>\n",
              "      <td>0.000000</td>\n",
              "      <td>0.624000</td>\n",
              "      <td>6.623500</td>\n",
              "      <td>94.075000</td>\n",
              "      <td>5.112625</td>\n",
              "      <td>5.000000</td>\n",
              "      <td>666.000000</td>\n",
              "      <td>20.200000</td>\n",
              "      <td>396.225000</td>\n",
              "      <td>16.955000</td>\n",
              "      <td>25.000000</td>\n",
              "    </tr>\n",
              "    <tr>\n",
              "      <th>max</th>\n",
              "      <td>88.976200</td>\n",
              "      <td>95.000000</td>\n",
              "      <td>9.90000</td>\n",
              "      <td>1.000000</td>\n",
              "      <td>0.871000</td>\n",
              "      <td>8.780000</td>\n",
              "      <td>100.000000</td>\n",
              "      <td>9.222900</td>\n",
              "      <td>8.000000</td>\n",
              "      <td>711.000000</td>\n",
              "      <td>22.000000</td>\n",
              "      <td>396.900000</td>\n",
              "      <td>37.970000</td>\n",
              "      <td>50.000000</td>\n",
              "    </tr>\n",
              "  </tbody>\n",
              "</table>\n",
              "</div>"
            ],
            "text/plain": [
              "             CRIM          ZN  ...      LSTAT%        MEDV\n",
              "count  506.000000  506.000000  ...  506.000000  506.000000\n",
              "mean     3.613524   11.166528  ...   12.653063   22.532806\n",
              "std      8.601545   22.990973  ...    7.141062    9.197104\n",
              "min      0.006320    0.000000  ...    1.730000    5.000000\n",
              "25%      0.082045    0.000000  ...    6.950000   17.025000\n",
              "50%      0.256510    0.001000  ...   11.360000   21.200000\n",
              "75%      3.677082   12.500000  ...   16.955000   25.000000\n",
              "max     88.976200   95.000000  ...   37.970000   50.000000\n",
              "\n",
              "[8 rows x 14 columns]"
            ]
          },
          "metadata": {
            "tags": []
          },
          "execution_count": 81
        }
      ]
    },
    {
      "cell_type": "code",
      "metadata": {
        "id": "4ykUdMBrHqzi",
        "colab_type": "code",
        "colab": {
          "base_uri": "https://localhost:8080/",
          "height": 654
        },
        "outputId": "23d9aea5-0d55-47ea-e918-3d1bd7e71311"
      },
      "source": [
        "%matplotlib inline\n",
        "import matplotlib.pyplot as plt\n",
        "housing.hist(bins=50, figsize=(20,15))\n",
        "plt.show()\n",
        "#save_fig(\"attribute_histogram_plots\")\n"
      ],
      "execution_count": null,
      "outputs": [
        {
          "output_type": "display_data",
          "data": {
            "image/png": "[encoded data removed]",
            "text/plain": [
              "<Figure size 1440x1080 with 16 Axes>"
            ]
          },
          "metadata": {
            "tags": [],
            "needs_background": "light"
          }
        }
      ]
    },
    {
      "cell_type": "code",
      "metadata": {
        "id": "35s7ej06Hqz9",
        "colab_type": "code",
        "colab": {}
      },
      "source": [
        "from sklearn.model_selection import train_test_split\n",
        "# Split the data into train set (80%) and test set (20%)\n",
        "train_set, test_set = train_test_split(housing, test_size=0.2, random_state=42)"
      ],
      "execution_count": null,
      "outputs": []
    },
    {
      "cell_type": "code",
      "metadata": {
        "id": "JihQzdPwHq0A",
        "colab_type": "code",
        "colab": {
          "base_uri": "https://localhost:8080/",
          "height": 51
        },
        "outputId": "ec545f5b-85c4-4452-942f-9c4a6db84767"
      },
      "source": [
        "print( train_set.shape )\n",
        "print( test_set.shape ) # No peeking at the test data though (data snooping bias)"
      ],
      "execution_count": null,
      "outputs": [
        {
          "output_type": "stream",
          "text": [
            "(404, 14)\n",
            "(102, 14)\n"
          ],
          "name": "stdout"
        }
      ]
    },
    {
      "cell_type": "code",
      "metadata": {
        "id": "WyuBUjQ9Hq0C",
        "colab_type": "code",
        "colab": {
          "base_uri": "https://localhost:8080/",
          "height": 285
        },
        "outputId": "247886e0-6602-43f3-c58b-d11d52b4d4c0"
      },
      "source": [
        "housing[\"DIS\"].hist()"
      ],
      "execution_count": null,
      "outputs": [
        {
          "output_type": "execute_result",
          "data": {
            "text/plain": [
              "<matplotlib.axes._subplots.AxesSubplot at 0x7f5bf5a88a90>"
            ]
          },
          "metadata": {
            "tags": []
          },
          "execution_count": 85
        },
        {
          "output_type": "display_data",
          "data": {
            "image/png": "[encoded data removed]",
            "text/plain": [
              "<Figure size 432x288 with 1 Axes>"
            ]
          },
          "metadata": {
            "tags": [],
            "needs_background": "light"
          }
        }
      ]
    },
    {
      "cell_type": "markdown",
      "metadata": {
        "id": "ytk3NEYa3Q7z",
        "colab_type": "text"
      },
      "source": [
        "**A note on the median income:** Per the team that collected the data, the numbers represent roughly tens of thousands of dollars (ie. 4 means \\$40,000), and the highest income has been capped at 15 (\\$150,000). Working with preprocessed data is common in ML, and it is not neccessarily a problem, we just need to understand how the data was computed."
      ]
    },
    {
      "cell_type": "code",
      "metadata": {
        "id": "tEIvyqr6Hq0D",
        "colab_type": "code",
        "colab": {}
      },
      "source": [
        "# Since this histogram is \"tail heavy\" (extends much farther to the right from the median and to the left)\n",
        "# We will try to transform this atrribute to have a more bell-shaped distribution\n",
        "housing[\"dis_cat\"] = pd.cut(housing[\"DIS\"],\n",
        "                               bins=[0., 1.5, 3.0, 4.5, 6., np.inf],\n",
        "                               labels=[1, 2, 3, 4, 5])"
      ],
      "execution_count": null,
      "outputs": []
    },
    {
      "cell_type": "code",
      "metadata": {
        "id": "Kd6LoTJlHq0F",
        "colab_type": "code",
        "colab": {
          "base_uri": "https://localhost:8080/",
          "height": 119
        },
        "outputId": "fbebc43a-bef3-45ad-e8f4-ec5071a3d788"
      },
      "source": [
        "housing[\"dis_cat\"].value_counts()"
      ],
      "execution_count": null,
      "outputs": [
        {
          "output_type": "execute_result",
          "data": {
            "text/plain": [
              "2    212\n",
              "3    111\n",
              "5     82\n",
              "4     68\n",
              "1     33\n",
              "Name: dis_cat, dtype: int64"
            ]
          },
          "metadata": {
            "tags": []
          },
          "execution_count": 87
        }
      ]
    },
    {
      "cell_type": "code",
      "metadata": {
        "id": "i60oQEScHq0H",
        "colab_type": "code",
        "colab": {
          "base_uri": "https://localhost:8080/",
          "height": 285
        },
        "outputId": "b20a22eb-cad8-44c0-efdc-42ef6e1c759d"
      },
      "source": [
        "housing[\"dis_cat\"].hist()"
      ],
      "execution_count": null,
      "outputs": [
        {
          "output_type": "execute_result",
          "data": {
            "text/plain": [
              "<matplotlib.axes._subplots.AxesSubplot at 0x7f5bfdbb9588>"
            ]
          },
          "metadata": {
            "tags": []
          },
          "execution_count": 88
        },
        {
          "output_type": "display_data",
          "data": {
            "image/png": "[encoded data removed]",
            "text/plain": [
              "<Figure size 432x288 with 1 Axes>"
            ]
          },
          "metadata": {
            "tags": [],
            "needs_background": "light"
          }
        }
      ]
    },
    {
      "cell_type": "markdown",
      "metadata": {
        "id": "Lx5YGAMyZyQR",
        "colab_type": "text"
      },
      "source": [
        "**Stratified Sampling:** So far we only consider random sampling methods. This is generally fine if your dataset is large enough, but if not, you are running a risk of introducing a significant sampling bias. How do we ensure the samples are representative of the whole population. For example, the US population is 51.3% females and 48.7% males, so a well-conducted survey in the US would try to maintain this ratio in the sample: 513 female and 487 male. This is called stratified sampling."
      ]
    },
    {
      "cell_type": "code",
      "metadata": {
        "id": "bBxNaySQHq0J",
        "colab_type": "code",
        "colab": {}
      },
      "source": [
        "from sklearn.model_selection import StratifiedShuffleSplit\n",
        "\n",
        "split = StratifiedShuffleSplit(n_splits=1, test_size=0.2, random_state=42)\n",
        "for train_index, test_index in split.split(housing, housing[\"dis_cat\"]):\n",
        "    strat_train_set = housing.loc[train_index]\n",
        "    strat_test_set = housing.loc[test_index]"
      ],
      "execution_count": null,
      "outputs": []
    },
    {
      "cell_type": "markdown",
      "metadata": {
        "id": "jSGux4oKarIC",
        "colab_type": "text"
      },
      "source": [
        "A test set generated by stratified sampling has income category proportions almost identical to those in the full dataset, whether the test set generated by purely random sampling is skewed."
      ]
    },
    {
      "cell_type": "code",
      "metadata": {
        "id": "A0wpsOcWHq0K",
        "colab_type": "code",
        "colab": {
          "base_uri": "https://localhost:8080/",
          "height": 119
        },
        "outputId": "8fc79f48-f8ad-478f-d333-9449148e6b4e"
      },
      "source": [
        "strat_test_set[\"dis_cat\"].value_counts() / len(strat_test_set)"
      ],
      "execution_count": null,
      "outputs": [
        {
          "output_type": "execute_result",
          "data": {
            "text/plain": [
              "2    0.421569\n",
              "3    0.215686\n",
              "5    0.156863\n",
              "4    0.137255\n",
              "1    0.068627\n",
              "Name: dis_cat, dtype: float64"
            ]
          },
          "metadata": {
            "tags": []
          },
          "execution_count": 90
        }
      ]
    },
    {
      "cell_type": "code",
      "metadata": {
        "id": "IH3fWrPBHq0N",
        "colab_type": "code",
        "colab": {
          "base_uri": "https://localhost:8080/",
          "height": 119
        },
        "outputId": "1b3878ca-408e-4a0e-c84b-04b3b27f6fb3"
      },
      "source": [
        "housing[\"dis_cat\"].value_counts() / len(housing)"
      ],
      "execution_count": null,
      "outputs": [
        {
          "output_type": "execute_result",
          "data": {
            "text/plain": [
              "2    0.418972\n",
              "3    0.219368\n",
              "5    0.162055\n",
              "4    0.134387\n",
              "1    0.065217\n",
              "Name: dis_cat, dtype: float64"
            ]
          },
          "metadata": {
            "tags": []
          },
          "execution_count": 91
        }
      ]
    },
    {
      "cell_type": "markdown",
      "metadata": {
        "id": "5JV-AeryHq0V",
        "colab_type": "text"
      },
      "source": [
        "# Step 3. Discover and visualize the data to gain insights"
      ]
    },
    {
      "cell_type": "code",
      "metadata": {
        "id": "_JeHfJPP50k0",
        "colab_type": "code",
        "colab": {}
      },
      "source": [
        "for set_ in (strat_train_set, strat_test_set):\n",
        "    set_.drop(\"dis_cat\", axis = 1, inplace=True)"
      ],
      "execution_count": null,
      "outputs": []
    },
    {
      "cell_type": "code",
      "metadata": {
        "id": "Ift8ruVPHq0W",
        "colab_type": "code",
        "colab": {}
      },
      "source": [
        "# Make a copy of the stratified train set\n",
        "housing = strat_train_set.copy()"
      ],
      "execution_count": null,
      "outputs": []
    },
    {
      "cell_type": "code",
      "metadata": {
        "id": "4qHnuOI-Hq0Z",
        "colab_type": "code",
        "colab": {
          "base_uri": "https://localhost:8080/",
          "height": 303
        },
        "outputId": "db414cd9-c093-4bb3-dedb-2303229a436f"
      },
      "source": [
        "housing.plot(kind=\"scatter\", x=\"DIS\", y=\"CRIM\")\n",
        "# save_fig(\"bad_visualization_plot\")"
      ],
      "execution_count": null,
      "outputs": [
        {
          "output_type": "execute_result",
          "data": {
            "text/plain": [
              "<matplotlib.axes._subplots.AxesSubplot at 0x7f5bf59a9ba8>"
            ]
          },
          "metadata": {
            "tags": []
          },
          "execution_count": 94
        },
        {
          "output_type": "display_data",
          "data": {
            "image/png": "[encoded data removed]",
            "text/plain": [
              "<Figure size 432x288 with 1 Axes>"
            ]
          },
          "metadata": {
            "tags": [],
            "needs_background": "light"
          }
        }
      ]
    },
    {
      "cell_type": "code",
      "metadata": {
        "id": "5ETtzG7dHq0f",
        "colab_type": "code",
        "colab": {
          "base_uri": "https://localhost:8080/",
          "height": 303
        },
        "outputId": "3aa71fc2-8444-4d8f-bb4e-50dab4ae0db0"
      },
      "source": [
        "# Add alpha channel for transparent so that the plot is less crowded.\n",
        "housing.plot(kind=\"scatter\", x=\"DIS\", y=\"CRIM\", alpha=0.6)\n",
        "# save_fig(\"better_visualization_plot\")"
      ],
      "execution_count": null,
      "outputs": [
        {
          "output_type": "execute_result",
          "data": {
            "text/plain": [
              "<matplotlib.axes._subplots.AxesSubplot at 0x7f5bf58c1860>"
            ]
          },
          "metadata": {
            "tags": []
          },
          "execution_count": 95
        },
        {
          "output_type": "display_data",
          "data": {
            "image/png": "[encoded data removed]",
            "text/plain": [
              "<Figure size 432x288 with 1 Axes>"
            ]
          },
          "metadata": {
            "tags": [],
            "needs_background": "light"
          }
        }
      ]
    },
    {
      "cell_type": "code",
      "metadata": {
        "id": "tQkcizfcHq0h",
        "colab_type": "code",
        "colab": {
          "base_uri": "https://localhost:8080/",
          "height": 471
        },
        "outputId": "0e6c5a48-1355-4ba3-b14e-ad6b9074ef0d"
      },
      "source": [
        "# Incorporate the population into the circle size\n",
        "# Add color (jet map) for the value of the housing\n",
        "housing.plot(kind=\"scatter\", x=\"RM\", y=\"LSTAT%\", alpha=0.9,\n",
        "    s=housing[\"RM\"]*3, label=\"rooms\", figsize=(10,7),\n",
        "    c=\"MEDV\", cmap=plt.get_cmap(\"jet\"), colorbar=True,\n",
        "    sharex=False)\n",
        "plt.legend()\n",
        "# save_fig(\"housing_prices_scatterplot\")"
      ],
      "execution_count": null,
      "outputs": [
        {
          "output_type": "execute_result",
          "data": {
            "text/plain": [
              "<matplotlib.legend.Legend at 0x7f5bfdf5b3c8>"
            ]
          },
          "metadata": {
            "tags": []
          },
          "execution_count": 96
        },
        {
          "output_type": "display_data",
          "data": {
            "image/png": "[encoded data removed]",
            "text/plain": [
              "<Figure size 720x504 with 2 Axes>"
            ]
          },
          "metadata": {
            "tags": [],
            "needs_background": "light"
          }
        }
      ]
    },
    {
      "cell_type": "markdown",
      "metadata": {
        "id": "I-O-icbTeOac",
        "colab_type": "text"
      },
      "source": [
        "The above image is good enough, but if you want some fancy map, you can have it too!"
      ]
    },
    {
      "cell_type": "code",
      "metadata": {
        "id": "L3M9AchcHq0m",
        "colab_type": "code",
        "colab": {
          "base_uri": "https://localhost:8080/",
          "height": 34
        },
        "outputId": "61799df0-cc18-4415-e8e1-2dbb7c7dc8db"
      },
      "source": [
        "# Use corr() to see the correlations (aka Standard Correlation Coefficient or Pearson's r) among the features of the dataset\n",
        "corr_matrix = housing.corr()\n",
        "corr_matrix.shape"
      ],
      "execution_count": null,
      "outputs": [
        {
          "output_type": "execute_result",
          "data": {
            "text/plain": [
              "(14, 14)"
            ]
          },
          "metadata": {
            "tags": []
          },
          "execution_count": 97
        }
      ]
    },
    {
      "cell_type": "markdown",
      "metadata": {
        "id": "selJyUAUiQ6g",
        "colab_type": "text"
      },
      "source": [
        "**The correlation coefficient** ranges from –1 to 1. When it is close to 1, it means that there is a strong positive correlation; for example, the median house value tends to go up when the median income goes up. When the coefficient is close to –1, it means that there is a strong negative correlation; you can see a small negative correlation between the latitude and the median house value (i.e., prices have a slight tendency to go down when you go north). Finally, coefficients close to zero mean that there is no linear correlation.\n",
        "\n",
        "![alt text](https://upload.wikimedia.org/wikipedia/commons/d/d4/Correlation_examples2.svg)"
      ]
    },
    {
      "cell_type": "code",
      "metadata": {
        "id": "SToAFpFTHq0p",
        "colab_type": "code",
        "colab": {
          "base_uri": "https://localhost:8080/",
          "height": 272
        },
        "outputId": "aaf9703f-0f96-42b2-9117-567f83443bdb"
      },
      "source": [
        "# Let's look at how much each feature correlates to the house value \n",
        "corr_matrix[\"MEDV\"].sort_values(ascending=False)"
      ],
      "execution_count": null,
      "outputs": [
        {
          "output_type": "execute_result",
          "data": {
            "text/plain": [
              "MEDV               1.000000\n",
              "RM                 0.743910\n",
              "ZN                 0.363011\n",
              "B1000(BK0.63)^2    0.321857\n",
              "DIS                0.283044\n",
              "CHAS               0.199408\n",
              "RAD                0.152931\n",
              "INDUS             -0.347237\n",
              "AGE               -0.380275\n",
              "CRIM              -0.393907\n",
              "NOX               -0.450276\n",
              "TAX               -0.487249\n",
              "PTRATIO           -0.524798\n",
              "LSTAT%            -0.743585\n",
              "Name: MEDV, dtype: float64"
            ]
          },
          "metadata": {
            "tags": []
          },
          "execution_count": 98
        }
      ]
    },
    {
      "cell_type": "code",
      "metadata": {
        "id": "Bzxe8n5oHq0s",
        "colab_type": "code",
        "colab": {
          "base_uri": "https://localhost:8080/",
          "height": 795
        },
        "outputId": "294b5603-e833-424e-89a4-0e7fe9c816ab"
      },
      "source": [
        "# from pandas.tools.plotting import scatter_matrix # For older versions of Pandas\n",
        "from pandas.plotting import scatter_matrix\n",
        "\n",
        "attributes = [\"MEDV\", \"LSTAT%\", \"RM\",\n",
        "              \"AGE\"]\n",
        "scatter_matrix(housing[attributes], figsize=(12, 8))\n",
        "# save_fig(\"scatter_matrix_plot\")"
      ],
      "execution_count": null,
      "outputs": [
        {
          "output_type": "execute_result",
          "data": {
            "text/plain": [
              "array([[<matplotlib.axes._subplots.AxesSubplot object at 0x7f5bfdfcb320>,\n",
              "        <matplotlib.axes._subplots.AxesSubplot object at 0x7f5bf5c92c18>,\n",
              "        <matplotlib.axes._subplots.AxesSubplot object at 0x7f5bf6332080>,\n",
              "        <matplotlib.axes._subplots.AxesSubplot object at 0x7f5bfdeb59b0>],\n",
              "       [<matplotlib.axes._subplots.AxesSubplot object at 0x7f5bf5b0f358>,\n",
              "        <matplotlib.axes._subplots.AxesSubplot object at 0x7f5bf5c44048>,\n",
              "        <matplotlib.axes._subplots.AxesSubplot object at 0x7f5bf604ed68>,\n",
              "        <matplotlib.axes._subplots.AxesSubplot object at 0x7f5bfde06160>],\n",
              "       [<matplotlib.axes._subplots.AxesSubplot object at 0x7f5bfde062e8>,\n",
              "        <matplotlib.axes._subplots.AxesSubplot object at 0x7f5bf5c820b8>,\n",
              "        <matplotlib.axes._subplots.AxesSubplot object at 0x7f5bf58b5320>,\n",
              "        <matplotlib.axes._subplots.AxesSubplot object at 0x7f5bf5ce4588>],\n",
              "       [<matplotlib.axes._subplots.AxesSubplot object at 0x7f5bf5d937f0>,\n",
              "        <matplotlib.axes._subplots.AxesSubplot object at 0x7f5bf608da58>,\n",
              "        <matplotlib.axes._subplots.AxesSubplot object at 0x7f5bf5e21cc0>,\n",
              "        <matplotlib.axes._subplots.AxesSubplot object at 0x7f5bf5b15f28>]],\n",
              "      dtype=object)"
            ]
          },
          "metadata": {
            "tags": []
          },
          "execution_count": 99
        },
        {
          "output_type": "display_data",
          "data": {
            "image/png": "[encoded data removed]",
            "text/plain": [
              "<Figure size 864x576 with 16 Axes>"
            ]
          },
          "metadata": {
            "tags": [],
            "needs_background": "light"
          }
        }
      ]
    },
    {
      "cell_type": "code",
      "metadata": {
        "id": "cgIdxsuNHq0u",
        "colab_type": "code",
        "colab": {
          "base_uri": "https://localhost:8080/",
          "height": 303
        },
        "outputId": "bf3bfc69-2e64-4f84-ebcc-b4b11661abfd"
      },
      "source": [
        "housing.plot(kind=\"scatter\", x=\"LSTAT%\", y=\"MEDV\",\n",
        "             alpha=0.5)\n",
        "plt.axis([0, 40, 0, 55])\n",
        "# save_fig(\"income_vs_house_value_scatterplot\")"
      ],
      "execution_count": null,
      "outputs": [
        {
          "output_type": "execute_result",
          "data": {
            "text/plain": [
              "(0.0, 40.0, 0.0, 55.0)"
            ]
          },
          "metadata": {
            "tags": []
          },
          "execution_count": 100
        },
        {
          "output_type": "display_data",
          "data": {
            "image/png": "[encoded data removed]",
            "text/plain": [
              "<Figure size 432x288 with 1 Axes>"
            ]
          },
          "metadata": {
            "tags": [],
            "needs_background": "light"
          }
        }
      ]
    },
    {
      "cell_type": "markdown",
      "metadata": {
        "id": "aFDIeeOtjPXG",
        "colab_type": "text"
      },
      "source": [
        "###Feature Engineering: \n",
        "Depends on the context of the problem, sometime we can combine some features to create a hopfully better one."
      ]
    },
    {
      "cell_type": "code",
      "metadata": {
        "id": "wszfDsmbHq0v",
        "colab_type": "code",
        "colab": {
          "base_uri": "https://localhost:8080/",
          "height": 34
        },
        "outputId": "03d0478f-6951-445d-bf13-eed0b4f12a1c"
      },
      "source": [
        "housing[\"total_land\"] = housing[\"ZN\"]+housing[\"INDUS\"]\n",
        "housing[\"cost_per_room\"] = housing[\"MEDV\"]/housing[\"RM\"]\n",
        "housing[\"tax_percentage\"]=(housing[\"TAX\"]/housing[\"MEDV\"])/100\n",
        "housing.shape"
      ],
      "execution_count": null,
      "outputs": [
        {
          "output_type": "execute_result",
          "data": {
            "text/plain": [
              "(404, 17)"
            ]
          },
          "metadata": {
            "tags": []
          },
          "execution_count": 101
        }
      ]
    },
    {
      "cell_type": "code",
      "metadata": {
        "id": "Nus_qj7rHq0x",
        "colab_type": "code",
        "colab": {
          "base_uri": "https://localhost:8080/",
          "height": 323
        },
        "outputId": "b14f7295-6f13-42a1-8be6-743cb6563d3d"
      },
      "source": [
        "corr_matrix = housing.corr()\n",
        "corr_matrix[\"MEDV\"].sort_values(ascending=False)"
      ],
      "execution_count": null,
      "outputs": [
        {
          "output_type": "execute_result",
          "data": {
            "text/plain": [
              "MEDV               1.000000\n",
              "cost_per_room      0.966046\n",
              "RM                 0.743910\n",
              "ZN                 0.363011\n",
              "total_land         0.337527\n",
              "B1000(BK0.63)^2    0.321857\n",
              "DIS                0.283044\n",
              "CHAS               0.199408\n",
              "RAD                0.152931\n",
              "INDUS             -0.347237\n",
              "AGE               -0.380275\n",
              "CRIM              -0.393907\n",
              "NOX               -0.450276\n",
              "TAX               -0.487249\n",
              "PTRATIO           -0.524798\n",
              "tax_percentage    -0.686004\n",
              "LSTAT%            -0.743585\n",
              "Name: MEDV, dtype: float64"
            ]
          },
          "metadata": {
            "tags": []
          },
          "execution_count": 102
        }
      ]
    },
    {
      "cell_type": "code",
      "metadata": {
        "id": "9fi3WTpeHq0y",
        "colab_type": "code",
        "colab": {
          "base_uri": "https://localhost:8080/",
          "height": 286
        },
        "outputId": "ef4ba10a-fa4d-43e4-e347-46e0405cadbc"
      },
      "source": [
        "housing.plot(kind=\"scatter\", x=\"tax_percentage\", y=\"MEDV\",\n",
        "             alpha=0.2)\n",
        "plt.axis([0, 1, 0, 52])\n",
        "plt.show()"
      ],
      "execution_count": null,
      "outputs": [
        {
          "output_type": "display_data",
          "data": {
            "image/png": "[encoded data removed]",
            "text/plain": [
              "<Figure size 432x288 with 1 Axes>"
            ]
          },
          "metadata": {
            "tags": [],
            "needs_background": "light"
          }
        }
      ]
    },
    {
      "cell_type": "code",
      "metadata": {
        "id": "xr8QybpJHq00",
        "colab_type": "code",
        "colab": {
          "base_uri": "https://localhost:8080/",
          "height": 317
        },
        "outputId": "f64cc901-0cb7-41c9-ebf0-61003819ca21"
      },
      "source": [
        "housing.describe()"
      ],
      "execution_count": null,
      "outputs": [
        {
          "output_type": "execute_result",
          "data": {
            "text/html": [
              "<div>\n",
              "<style scoped>\n",
              "    .dataframe tbody tr th:only-of-type {\n",
              "        vertical-align: middle;\n",
              "    }\n",
              "\n",
              "    .dataframe tbody tr th {\n",
              "        vertical-align: top;\n",
              "    }\n",
              "\n",
              "    .dataframe thead th {\n",
              "        text-align: right;\n",
              "    }\n",
              "</style>\n",
              "<table border=\"1\" class=\"dataframe\">\n",
              "  <thead>\n",
              "    <tr style=\"text-align: right;\">\n",
              "      <th></th>\n",
              "      <th>CRIM</th>\n",
              "      <th>ZN</th>\n",
              "      <th>INDUS</th>\n",
              "      <th>CHAS</th>\n",
              "      <th>NOX</th>\n",
              "      <th>RM</th>\n",
              "      <th>AGE</th>\n",
              "      <th>DIS</th>\n",
              "      <th>RAD</th>\n",
              "      <th>TAX</th>\n",
              "      <th>PTRATIO</th>\n",
              "      <th>B1000(BK0.63)^2</th>\n",
              "      <th>LSTAT%</th>\n",
              "      <th>MEDV</th>\n",
              "      <th>total_land</th>\n",
              "      <th>cost_per_room</th>\n",
              "      <th>tax_percentage</th>\n",
              "    </tr>\n",
              "  </thead>\n",
              "  <tbody>\n",
              "    <tr>\n",
              "      <th>count</th>\n",
              "      <td>404.000000</td>\n",
              "      <td>404.000000</td>\n",
              "      <td>404.000000</td>\n",
              "      <td>404.000000</td>\n",
              "      <td>404.000000</td>\n",
              "      <td>404.000000</td>\n",
              "      <td>404.000000</td>\n",
              "      <td>404.000000</td>\n",
              "      <td>404.000000</td>\n",
              "      <td>404.000000</td>\n",
              "      <td>404.000000</td>\n",
              "      <td>404.000000</td>\n",
              "      <td>404.000000</td>\n",
              "      <td>404.000000</td>\n",
              "      <td>404.000000</td>\n",
              "      <td>404.000000</td>\n",
              "      <td>404.000000</td>\n",
              "    </tr>\n",
              "    <tr>\n",
              "      <th>mean</th>\n",
              "      <td>3.604118</td>\n",
              "      <td>10.937411</td>\n",
              "      <td>6.019505</td>\n",
              "      <td>0.074257</td>\n",
              "      <td>0.556997</td>\n",
              "      <td>6.295260</td>\n",
              "      <td>69.019802</td>\n",
              "      <td>3.694299</td>\n",
              "      <td>4.356436</td>\n",
              "      <td>409.443069</td>\n",
              "      <td>18.474505</td>\n",
              "      <td>358.813713</td>\n",
              "      <td>12.986906</td>\n",
              "      <td>22.268317</td>\n",
              "      <td>16.956916</td>\n",
              "      <td>3.467576</td>\n",
              "      <td>0.244760</td>\n",
              "    </tr>\n",
              "    <tr>\n",
              "      <th>std</th>\n",
              "      <td>8.642486</td>\n",
              "      <td>23.169894</td>\n",
              "      <td>2.698286</td>\n",
              "      <td>0.262514</td>\n",
              "      <td>0.116758</td>\n",
              "      <td>0.685974</td>\n",
              "      <td>28.521449</td>\n",
              "      <td>1.957909</td>\n",
              "      <td>1.411292</td>\n",
              "      <td>170.247883</td>\n",
              "      <td>2.147402</td>\n",
              "      <td>88.359651</td>\n",
              "      <td>7.261254</td>\n",
              "      <td>9.269539</td>\n",
              "      <td>22.143334</td>\n",
              "      <td>1.133432</td>\n",
              "      <td>0.213767</td>\n",
              "    </tr>\n",
              "    <tr>\n",
              "      <th>min</th>\n",
              "      <td>0.009060</td>\n",
              "      <td>0.000000</td>\n",
              "      <td>0.010000</td>\n",
              "      <td>0.000000</td>\n",
              "      <td>0.389000</td>\n",
              "      <td>4.138000</td>\n",
              "      <td>2.900000</td>\n",
              "      <td>0.585700</td>\n",
              "      <td>1.000000</td>\n",
              "      <td>187.000000</td>\n",
              "      <td>12.600000</td>\n",
              "      <td>0.320000</td>\n",
              "      <td>1.730000</td>\n",
              "      <td>5.000000</td>\n",
              "      <td>0.011000</td>\n",
              "      <td>0.879817</td>\n",
              "      <td>0.038600</td>\n",
              "    </tr>\n",
              "    <tr>\n",
              "      <th>25%</th>\n",
              "      <td>0.086963</td>\n",
              "      <td>0.000000</td>\n",
              "      <td>3.890000</td>\n",
              "      <td>0.000000</td>\n",
              "      <td>0.453000</td>\n",
              "      <td>5.887750</td>\n",
              "      <td>44.675000</td>\n",
              "      <td>2.060800</td>\n",
              "      <td>4.000000</td>\n",
              "      <td>283.250000</td>\n",
              "      <td>17.375000</td>\n",
              "      <td>376.092500</td>\n",
              "      <td>7.137500</td>\n",
              "      <td>16.575000</td>\n",
              "      <td>6.200000</td>\n",
              "      <td>2.798477</td>\n",
              "      <td>0.114224</td>\n",
              "    </tr>\n",
              "    <tr>\n",
              "      <th>50%</th>\n",
              "      <td>0.289575</td>\n",
              "      <td>0.001000</td>\n",
              "      <td>6.910000</td>\n",
              "      <td>0.000000</td>\n",
              "      <td>0.538000</td>\n",
              "      <td>6.205000</td>\n",
              "      <td>79.050000</td>\n",
              "      <td>3.107300</td>\n",
              "      <td>4.000000</td>\n",
              "      <td>330.000000</td>\n",
              "      <td>19.100000</td>\n",
              "      <td>391.440000</td>\n",
              "      <td>12.030000</td>\n",
              "      <td>20.800000</td>\n",
              "      <td>8.101000</td>\n",
              "      <td>3.442815</td>\n",
              "      <td>0.156701</td>\n",
              "    </tr>\n",
              "    <tr>\n",
              "      <th>75%</th>\n",
              "      <td>3.681942</td>\n",
              "      <td>12.500000</td>\n",
              "      <td>8.100000</td>\n",
              "      <td>0.000000</td>\n",
              "      <td>0.625750</td>\n",
              "      <td>6.604500</td>\n",
              "      <td>94.425000</td>\n",
              "      <td>5.116700</td>\n",
              "      <td>5.000000</td>\n",
              "      <td>666.000000</td>\n",
              "      <td>20.200000</td>\n",
              "      <td>396.352500</td>\n",
              "      <td>17.272500</td>\n",
              "      <td>24.850000</td>\n",
              "      <td>18.570000</td>\n",
              "      <td>3.983210</td>\n",
              "      <td>0.305924</td>\n",
              "    </tr>\n",
              "    <tr>\n",
              "      <th>max</th>\n",
              "      <td>88.976200</td>\n",
              "      <td>95.000000</td>\n",
              "      <td>9.900000</td>\n",
              "      <td>1.000000</td>\n",
              "      <td>0.871000</td>\n",
              "      <td>8.780000</td>\n",
              "      <td>100.000000</td>\n",
              "      <td>9.220300</td>\n",
              "      <td>8.000000</td>\n",
              "      <td>711.000000</td>\n",
              "      <td>22.000000</td>\n",
              "      <td>396.900000</td>\n",
              "      <td>37.970000</td>\n",
              "      <td>50.000000</td>\n",
              "      <td>97.680000</td>\n",
              "      <td>8.043758</td>\n",
              "      <td>1.332000</td>\n",
              "    </tr>\n",
              "  </tbody>\n",
              "</table>\n",
              "</div>"
            ],
            "text/plain": [
              "             CRIM          ZN  ...  cost_per_room  tax_percentage\n",
              "count  404.000000  404.000000  ...     404.000000      404.000000\n",
              "mean     3.604118   10.937411  ...       3.467576        0.244760\n",
              "std      8.642486   23.169894  ...       1.133432        0.213767\n",
              "min      0.009060    0.000000  ...       0.879817        0.038600\n",
              "25%      0.086963    0.000000  ...       2.798477        0.114224\n",
              "50%      0.289575    0.001000  ...       3.442815        0.156701\n",
              "75%      3.681942   12.500000  ...       3.983210        0.305924\n",
              "max     88.976200   95.000000  ...       8.043758        1.332000\n",
              "\n",
              "[8 rows x 17 columns]"
            ]
          },
          "metadata": {
            "tags": []
          },
          "execution_count": 104
        }
      ]
    },
    {
      "cell_type": "markdown",
      "metadata": {
        "id": "c6eEqTnrHq01",
        "colab_type": "text"
      },
      "source": [
        "# Step 4. Prepare the data for Machine Learning algorithms (aka Data Cleaning)"
      ]
    },
    {
      "cell_type": "code",
      "metadata": {
        "id": "nWFrn-9IHq02",
        "colab_type": "code",
        "colab": {}
      },
      "source": [
        "# Create the features and labels for training\n",
        "housing = strat_train_set.drop(\"MEDV\", axis=1) # drop labels for training set\n",
        "housing_labels = strat_train_set[\"MEDV\"].copy()"
      ],
      "execution_count": null,
      "outputs": []
    },
    {
      "cell_type": "code",
      "metadata": {
        "id": "LgVvPBq3Hq05",
        "colab_type": "code",
        "colab": {
          "base_uri": "https://localhost:8080/",
          "height": 49
        },
        "outputId": "c4877af9-674c-45bf-df8a-83a3b26eb289"
      },
      "source": [
        "# Check to see if there's any missing value in the data with .isnull()\n",
        "sample_incomplete_rows = housing[housing.isnull().any(axis=1)].head()\n",
        "sample_incomplete_rows"
      ],
      "execution_count": null,
      "outputs": [
        {
          "output_type": "execute_result",
          "data": {
            "text/html": [
              "<div>\n",
              "<style scoped>\n",
              "    .dataframe tbody tr th:only-of-type {\n",
              "        vertical-align: middle;\n",
              "    }\n",
              "\n",
              "    .dataframe tbody tr th {\n",
              "        vertical-align: top;\n",
              "    }\n",
              "\n",
              "    .dataframe thead th {\n",
              "        text-align: right;\n",
              "    }\n",
              "</style>\n",
              "<table border=\"1\" class=\"dataframe\">\n",
              "  <thead>\n",
              "    <tr style=\"text-align: right;\">\n",
              "      <th></th>\n",
              "      <th>CRIM</th>\n",
              "      <th>ZN</th>\n",
              "      <th>INDUS</th>\n",
              "      <th>CHAS</th>\n",
              "      <th>NOX</th>\n",
              "      <th>RM</th>\n",
              "      <th>AGE</th>\n",
              "      <th>DIS</th>\n",
              "      <th>RAD</th>\n",
              "      <th>TAX</th>\n",
              "      <th>PTRATIO</th>\n",
              "      <th>B1000(BK0.63)^2</th>\n",
              "      <th>LSTAT%</th>\n",
              "    </tr>\n",
              "  </thead>\n",
              "  <tbody>\n",
              "  </tbody>\n",
              "</table>\n",
              "</div>"
            ],
            "text/plain": [
              "Empty DataFrame\n",
              "Columns: [CRIM, ZN, INDUS, CHAS, NOX, RM, AGE, DIS, RAD, TAX, PTRATIO, B1000(BK0.63)^2, LSTAT%]\n",
              "Index: []"
            ]
          },
          "metadata": {
            "tags": []
          },
          "execution_count": 118
        }
      ]
    },
    {
      "cell_type": "code",
      "metadata": {
        "id": "E_NPPOG1Hq1A",
        "colab_type": "code",
        "colab": {
          "base_uri": "https://localhost:8080/",
          "height": 49
        },
        "outputId": "70a4a090-b75e-4137-c12c-a75c8f6e218a"
      },
      "source": [
        "sample_incomplete_rows"
      ],
      "execution_count": null,
      "outputs": [
        {
          "output_type": "execute_result",
          "data": {
            "text/html": [
              "<div>\n",
              "<style scoped>\n",
              "    .dataframe tbody tr th:only-of-type {\n",
              "        vertical-align: middle;\n",
              "    }\n",
              "\n",
              "    .dataframe tbody tr th {\n",
              "        vertical-align: top;\n",
              "    }\n",
              "\n",
              "    .dataframe thead th {\n",
              "        text-align: right;\n",
              "    }\n",
              "</style>\n",
              "<table border=\"1\" class=\"dataframe\">\n",
              "  <thead>\n",
              "    <tr style=\"text-align: right;\">\n",
              "      <th></th>\n",
              "      <th>CRIM</th>\n",
              "      <th>ZN</th>\n",
              "      <th>INDUS</th>\n",
              "      <th>CHAS</th>\n",
              "      <th>NOX</th>\n",
              "      <th>RM</th>\n",
              "      <th>AGE</th>\n",
              "      <th>DIS</th>\n",
              "      <th>RAD</th>\n",
              "      <th>TAX</th>\n",
              "      <th>PTRATIO</th>\n",
              "      <th>B1000(BK0.63)^2</th>\n",
              "      <th>LSTAT%</th>\n",
              "    </tr>\n",
              "  </thead>\n",
              "  <tbody>\n",
              "  </tbody>\n",
              "</table>\n",
              "</div>"
            ],
            "text/plain": [
              "Empty DataFrame\n",
              "Columns: [CRIM, ZN, INDUS, CHAS, NOX, RM, AGE, DIS, RAD, TAX, PTRATIO, B1000(BK0.63)^2, LSTAT%]\n",
              "Index: []"
            ]
          },
          "metadata": {
            "tags": []
          },
          "execution_count": 119
        }
      ]
    },
    {
      "cell_type": "markdown",
      "metadata": {
        "id": "MNcS53QuHq1Z",
        "colab_type": "text"
      },
      "source": [
        "So far we have dealt with numerical features, now let's preprocess the categorical input feature, `ocean_proximity`:"
      ]
    },
    {
      "cell_type": "markdown",
      "metadata": {
        "id": "X4ovf3CH0TCg",
        "colab_type": "text"
      },
      "source": [
        "**Writing Custom Transformer:** Although Scikit-Learn provides many useful transformers, you will need to write your own for tasks such as custom cleanup operations or combining specific attributes. You will want your transformer to work seamlessly with Scikit-Learn functionalities (such as pipelines), and since Scikit-Learn relies on duck typing (not inheritance), all you need is to create a class and implement three methods: fit() (returning self), transform(), and fit_transform(). You can get the last one for free by simply adding TransformerMixin as a base class.\n",
        "\n",
        "Also, if you add BaseEstimator as a base class (and avoid *args and **kargs in your constructor), you will get two extra methods (get_params() and set_params()) that will be useful for automatic hyperparameter tuning."
      ]
    },
    {
      "cell_type": "code",
      "metadata": {
        "id": "spkgqGbx0O5a",
        "colab_type": "code",
        "colab": {
          "base_uri": "https://localhost:8080/",
          "height": 71
        },
        "outputId": "538828e2-9d86-4cde-d5fc-5720992339b4"
      },
      "source": [
        "from sklearn.base import BaseEstimator, TransformerMixin\n",
        "\n",
        "MEDV_ix, TAX_ix, RM_ix = 3, 4, 5\n",
        "\n",
        "class CombinedAttributesAdder(BaseEstimator, TransformerMixin):\n",
        "    def __init__(self, cost_per_room = True): # no *args or **kargs\n",
        "        self.cost_per_room = cost_per_room\n",
        "    def fit(self, X, y=None):\n",
        "        return self  # nothing else to do\n",
        "    def transform(self, X, y=None):\n",
        "        cost_per_room = X[:, MEDV_ix] / X[:, RM_ix]\n",
        "        tax_percentage = X[:, TAX_ix] / X[:, MEDV_ix]\n",
        "        \n",
        "        return np.c_[X, cost_per_room, tax_percentage]\n",
        "\n",
        "# When set to false, that feature will not be added --> so here it adds two features only\n",
        "attr_adder = CombinedAttributesAdder(cost_per_room=False)\n",
        "housing_extra_attribs = attr_adder.transform(housing.values)"
      ],
      "execution_count": null,
      "outputs": [
        {
          "output_type": "stream",
          "text": [
            "/usr/local/lib/python3.6/dist-packages/ipykernel_launcher.py:12: RuntimeWarning: divide by zero encountered in true_divide\n",
            "  if sys.path[0] == '':\n"
          ],
          "name": "stderr"
        }
      ]
    },
    {
      "cell_type": "markdown",
      "metadata": {
        "id": "W6X39pewHq1s",
        "colab_type": "text"
      },
      "source": [
        "As you can see, there are many data transformation steps that need to be executed in the right order. Fortunately, Scikit-Learn provides the Pipeline class to help with such sequences of transformations. Now let's build a pipeline for preprocessing the numerical attributes:\n",
        "\n",
        "**A note on StandardScaler:** Machine Learning algorithms don’t perform well when the input numerical attributes have very different scales. This is the case for the housing data: the total number of rooms ranges from about 6 to 39,320, while the median incomes only range from 0 to 15. Standardization subtracts the mean value (so standardized values always have a zero mean), and then it divides by the standard deviation so that the resulting distribution has unit variance."
      ]
    },
    {
      "cell_type": "code",
      "metadata": {
        "id": "RPUm-2eODo7D",
        "colab_type": "code",
        "colab": {
          "base_uri": "https://localhost:8080/",
          "height": 255
        },
        "outputId": "e0170eb3-f25a-4a55-e094-e0a1d88f512c"
      },
      "source": [
        "sample_incomplete_rows = housing[housing.isnull().any(axis=1)].head()\n",
        "np.isfinite(housing).all()\n",
        "np.isnan(housing).any()"
      ],
      "execution_count": null,
      "outputs": [
        {
          "output_type": "execute_result",
          "data": {
            "text/plain": [
              "CRIM               False\n",
              "ZN                 False\n",
              "INDUS              False\n",
              "CHAS               False\n",
              "NOX                False\n",
              "RM                 False\n",
              "AGE                False\n",
              "DIS                False\n",
              "RAD                False\n",
              "TAX                False\n",
              "PTRATIO            False\n",
              "B1000(BK0.63)^2    False\n",
              "LSTAT%             False\n",
              "dtype: bool"
            ]
          },
          "metadata": {
            "tags": []
          },
          "execution_count": 121
        }
      ]
    },
    {
      "cell_type": "code",
      "metadata": {
        "id": "iL4NpUY2LVLo",
        "colab_type": "code",
        "colab": {
          "base_uri": "https://localhost:8080/",
          "height": 419
        },
        "outputId": "260b3a51-e0b6-45c9-ccd9-b752aaf2bd32"
      },
      "source": [
        "housing.round(decimals=3)"
      ],
      "execution_count": null,
      "outputs": [
        {
          "output_type": "execute_result",
          "data": {
            "text/html": [
              "<div>\n",
              "<style scoped>\n",
              "    .dataframe tbody tr th:only-of-type {\n",
              "        vertical-align: middle;\n",
              "    }\n",
              "\n",
              "    .dataframe tbody tr th {\n",
              "        vertical-align: top;\n",
              "    }\n",
              "\n",
              "    .dataframe thead th {\n",
              "        text-align: right;\n",
              "    }\n",
              "</style>\n",
              "<table border=\"1\" class=\"dataframe\">\n",
              "  <thead>\n",
              "    <tr style=\"text-align: right;\">\n",
              "      <th></th>\n",
              "      <th>CRIM</th>\n",
              "      <th>ZN</th>\n",
              "      <th>INDUS</th>\n",
              "      <th>CHAS</th>\n",
              "      <th>NOX</th>\n",
              "      <th>RM</th>\n",
              "      <th>AGE</th>\n",
              "      <th>DIS</th>\n",
              "      <th>RAD</th>\n",
              "      <th>TAX</th>\n",
              "      <th>PTRATIO</th>\n",
              "      <th>B1000(BK0.63)^2</th>\n",
              "      <th>LSTAT%</th>\n",
              "    </tr>\n",
              "  </thead>\n",
              "  <tbody>\n",
              "    <tr>\n",
              "      <th>488</th>\n",
              "      <td>0.151</td>\n",
              "      <td>0.002</td>\n",
              "      <td>7.74</td>\n",
              "      <td>0</td>\n",
              "      <td>0.609</td>\n",
              "      <td>5.454</td>\n",
              "      <td>92.7</td>\n",
              "      <td>1.821</td>\n",
              "      <td>4</td>\n",
              "      <td>711.0</td>\n",
              "      <td>20.1</td>\n",
              "      <td>395.09</td>\n",
              "      <td>18.06</td>\n",
              "    </tr>\n",
              "    <tr>\n",
              "      <th>148</th>\n",
              "      <td>2.331</td>\n",
              "      <td>0.001</td>\n",
              "      <td>9.58</td>\n",
              "      <td>0</td>\n",
              "      <td>0.871</td>\n",
              "      <td>5.186</td>\n",
              "      <td>93.8</td>\n",
              "      <td>1.530</td>\n",
              "      <td>5</td>\n",
              "      <td>403.0</td>\n",
              "      <td>14.7</td>\n",
              "      <td>356.99</td>\n",
              "      <td>28.32</td>\n",
              "    </tr>\n",
              "    <tr>\n",
              "      <th>12</th>\n",
              "      <td>0.094</td>\n",
              "      <td>12.500</td>\n",
              "      <td>7.87</td>\n",
              "      <td>0</td>\n",
              "      <td>0.524</td>\n",
              "      <td>5.889</td>\n",
              "      <td>39.0</td>\n",
              "      <td>5.451</td>\n",
              "      <td>5</td>\n",
              "      <td>311.0</td>\n",
              "      <td>15.2</td>\n",
              "      <td>390.50</td>\n",
              "      <td>15.71</td>\n",
              "    </tr>\n",
              "    <tr>\n",
              "      <th>329</th>\n",
              "      <td>0.067</td>\n",
              "      <td>0.000</td>\n",
              "      <td>3.24</td>\n",
              "      <td>0</td>\n",
              "      <td>0.460</td>\n",
              "      <td>6.333</td>\n",
              "      <td>17.2</td>\n",
              "      <td>5.215</td>\n",
              "      <td>4</td>\n",
              "      <td>430.0</td>\n",
              "      <td>16.9</td>\n",
              "      <td>375.21</td>\n",
              "      <td>7.34</td>\n",
              "    </tr>\n",
              "    <tr>\n",
              "      <th>45</th>\n",
              "      <td>0.171</td>\n",
              "      <td>0.000</td>\n",
              "      <td>6.91</td>\n",
              "      <td>0</td>\n",
              "      <td>0.448</td>\n",
              "      <td>5.682</td>\n",
              "      <td>33.8</td>\n",
              "      <td>5.100</td>\n",
              "      <td>3</td>\n",
              "      <td>233.0</td>\n",
              "      <td>17.9</td>\n",
              "      <td>396.90</td>\n",
              "      <td>10.21</td>\n",
              "    </tr>\n",
              "    <tr>\n",
              "      <th>...</th>\n",
              "      <td>...</td>\n",
              "      <td>...</td>\n",
              "      <td>...</td>\n",
              "      <td>...</td>\n",
              "      <td>...</td>\n",
              "      <td>...</td>\n",
              "      <td>...</td>\n",
              "      <td>...</td>\n",
              "      <td>...</td>\n",
              "      <td>...</td>\n",
              "      <td>...</td>\n",
              "      <td>...</td>\n",
              "      <td>...</td>\n",
              "    </tr>\n",
              "    <tr>\n",
              "      <th>456</th>\n",
              "      <td>4.669</td>\n",
              "      <td>0.001</td>\n",
              "      <td>8.10</td>\n",
              "      <td>0</td>\n",
              "      <td>0.713</td>\n",
              "      <td>5.976</td>\n",
              "      <td>87.9</td>\n",
              "      <td>2.581</td>\n",
              "      <td>4</td>\n",
              "      <td>666.0</td>\n",
              "      <td>20.2</td>\n",
              "      <td>10.48</td>\n",
              "      <td>19.01</td>\n",
              "    </tr>\n",
              "    <tr>\n",
              "      <th>277</th>\n",
              "      <td>0.061</td>\n",
              "      <td>40.000</td>\n",
              "      <td>6.41</td>\n",
              "      <td>1</td>\n",
              "      <td>0.447</td>\n",
              "      <td>6.826</td>\n",
              "      <td>27.6</td>\n",
              "      <td>4.863</td>\n",
              "      <td>4</td>\n",
              "      <td>254.0</td>\n",
              "      <td>17.6</td>\n",
              "      <td>393.45</td>\n",
              "      <td>4.16</td>\n",
              "    </tr>\n",
              "    <tr>\n",
              "      <th>92</th>\n",
              "      <td>0.042</td>\n",
              "      <td>28.001</td>\n",
              "      <td>5.04</td>\n",
              "      <td>0</td>\n",
              "      <td>0.464</td>\n",
              "      <td>6.442</td>\n",
              "      <td>53.6</td>\n",
              "      <td>3.666</td>\n",
              "      <td>4</td>\n",
              "      <td>270.0</td>\n",
              "      <td>18.2</td>\n",
              "      <td>395.01</td>\n",
              "      <td>8.16</td>\n",
              "    </tr>\n",
              "    <tr>\n",
              "      <th>183</th>\n",
              "      <td>0.100</td>\n",
              "      <td>0.000</td>\n",
              "      <td>2.46</td>\n",
              "      <td>0</td>\n",
              "      <td>0.488</td>\n",
              "      <td>6.563</td>\n",
              "      <td>95.6</td>\n",
              "      <td>2.847</td>\n",
              "      <td>3</td>\n",
              "      <td>193.0</td>\n",
              "      <td>17.8</td>\n",
              "      <td>396.90</td>\n",
              "      <td>5.68</td>\n",
              "    </tr>\n",
              "    <tr>\n",
              "      <th>140</th>\n",
              "      <td>0.291</td>\n",
              "      <td>0.002</td>\n",
              "      <td>1.89</td>\n",
              "      <td>0</td>\n",
              "      <td>0.624</td>\n",
              "      <td>6.174</td>\n",
              "      <td>93.6</td>\n",
              "      <td>1.612</td>\n",
              "      <td>4</td>\n",
              "      <td>437.0</td>\n",
              "      <td>21.2</td>\n",
              "      <td>388.08</td>\n",
              "      <td>24.16</td>\n",
              "    </tr>\n",
              "  </tbody>\n",
              "</table>\n",
              "<p>404 rows × 13 columns</p>\n",
              "</div>"
            ],
            "text/plain": [
              "      CRIM      ZN  INDUS  CHAS  ...    TAX  PTRATIO  B1000(BK0.63)^2  LSTAT%\n",
              "488  0.151   0.002   7.74     0  ...  711.0     20.1           395.09   18.06\n",
              "148  2.331   0.001   9.58     0  ...  403.0     14.7           356.99   28.32\n",
              "12   0.094  12.500   7.87     0  ...  311.0     15.2           390.50   15.71\n",
              "329  0.067   0.000   3.24     0  ...  430.0     16.9           375.21    7.34\n",
              "45   0.171   0.000   6.91     0  ...  233.0     17.9           396.90   10.21\n",
              "..     ...     ...    ...   ...  ...    ...      ...              ...     ...\n",
              "456  4.669   0.001   8.10     0  ...  666.0     20.2            10.48   19.01\n",
              "277  0.061  40.000   6.41     1  ...  254.0     17.6           393.45    4.16\n",
              "92   0.042  28.001   5.04     0  ...  270.0     18.2           395.01    8.16\n",
              "183  0.100   0.000   2.46     0  ...  193.0     17.8           396.90    5.68\n",
              "140  0.291   0.002   1.89     0  ...  437.0     21.2           388.08   24.16\n",
              "\n",
              "[404 rows x 13 columns]"
            ]
          },
          "metadata": {
            "tags": []
          },
          "execution_count": 122
        }
      ]
    },
    {
      "cell_type": "code",
      "metadata": {
        "id": "WmMmi9kcJ1lb",
        "colab_type": "code",
        "colab": {
          "base_uri": "https://localhost:8080/",
          "height": 317
        },
        "outputId": "d388f20c-9aad-45d5-941a-6cea862c41bb"
      },
      "source": [
        "housing.describe()"
      ],
      "execution_count": null,
      "outputs": [
        {
          "output_type": "execute_result",
          "data": {
            "text/html": [
              "<div>\n",
              "<style scoped>\n",
              "    .dataframe tbody tr th:only-of-type {\n",
              "        vertical-align: middle;\n",
              "    }\n",
              "\n",
              "    .dataframe tbody tr th {\n",
              "        vertical-align: top;\n",
              "    }\n",
              "\n",
              "    .dataframe thead th {\n",
              "        text-align: right;\n",
              "    }\n",
              "</style>\n",
              "<table border=\"1\" class=\"dataframe\">\n",
              "  <thead>\n",
              "    <tr style=\"text-align: right;\">\n",
              "      <th></th>\n",
              "      <th>CRIM</th>\n",
              "      <th>ZN</th>\n",
              "      <th>INDUS</th>\n",
              "      <th>CHAS</th>\n",
              "      <th>NOX</th>\n",
              "      <th>RM</th>\n",
              "      <th>AGE</th>\n",
              "      <th>DIS</th>\n",
              "      <th>RAD</th>\n",
              "      <th>TAX</th>\n",
              "      <th>PTRATIO</th>\n",
              "      <th>B1000(BK0.63)^2</th>\n",
              "      <th>LSTAT%</th>\n",
              "    </tr>\n",
              "  </thead>\n",
              "  <tbody>\n",
              "    <tr>\n",
              "      <th>count</th>\n",
              "      <td>404.000000</td>\n",
              "      <td>404.000000</td>\n",
              "      <td>404.000000</td>\n",
              "      <td>404.000000</td>\n",
              "      <td>404.000000</td>\n",
              "      <td>404.000000</td>\n",
              "      <td>404.000000</td>\n",
              "      <td>404.000000</td>\n",
              "      <td>404.000000</td>\n",
              "      <td>404.000000</td>\n",
              "      <td>404.000000</td>\n",
              "      <td>404.000000</td>\n",
              "      <td>404.000000</td>\n",
              "    </tr>\n",
              "    <tr>\n",
              "      <th>mean</th>\n",
              "      <td>3.604118</td>\n",
              "      <td>10.937411</td>\n",
              "      <td>6.019505</td>\n",
              "      <td>0.074257</td>\n",
              "      <td>0.556997</td>\n",
              "      <td>6.295260</td>\n",
              "      <td>69.019802</td>\n",
              "      <td>3.694299</td>\n",
              "      <td>4.356436</td>\n",
              "      <td>409.443069</td>\n",
              "      <td>18.474505</td>\n",
              "      <td>358.813713</td>\n",
              "      <td>12.986906</td>\n",
              "    </tr>\n",
              "    <tr>\n",
              "      <th>std</th>\n",
              "      <td>8.642486</td>\n",
              "      <td>23.169894</td>\n",
              "      <td>2.698286</td>\n",
              "      <td>0.262514</td>\n",
              "      <td>0.116758</td>\n",
              "      <td>0.685974</td>\n",
              "      <td>28.521449</td>\n",
              "      <td>1.957909</td>\n",
              "      <td>1.411292</td>\n",
              "      <td>170.247883</td>\n",
              "      <td>2.147402</td>\n",
              "      <td>88.359651</td>\n",
              "      <td>7.261254</td>\n",
              "    </tr>\n",
              "    <tr>\n",
              "      <th>min</th>\n",
              "      <td>0.009060</td>\n",
              "      <td>0.000000</td>\n",
              "      <td>0.010000</td>\n",
              "      <td>0.000000</td>\n",
              "      <td>0.389000</td>\n",
              "      <td>4.138000</td>\n",
              "      <td>2.900000</td>\n",
              "      <td>0.585700</td>\n",
              "      <td>1.000000</td>\n",
              "      <td>187.000000</td>\n",
              "      <td>12.600000</td>\n",
              "      <td>0.320000</td>\n",
              "      <td>1.730000</td>\n",
              "    </tr>\n",
              "    <tr>\n",
              "      <th>25%</th>\n",
              "      <td>0.086963</td>\n",
              "      <td>0.000000</td>\n",
              "      <td>3.890000</td>\n",
              "      <td>0.000000</td>\n",
              "      <td>0.453000</td>\n",
              "      <td>5.887750</td>\n",
              "      <td>44.675000</td>\n",
              "      <td>2.060800</td>\n",
              "      <td>4.000000</td>\n",
              "      <td>283.250000</td>\n",
              "      <td>17.375000</td>\n",
              "      <td>376.092500</td>\n",
              "      <td>7.137500</td>\n",
              "    </tr>\n",
              "    <tr>\n",
              "      <th>50%</th>\n",
              "      <td>0.289575</td>\n",
              "      <td>0.001000</td>\n",
              "      <td>6.910000</td>\n",
              "      <td>0.000000</td>\n",
              "      <td>0.538000</td>\n",
              "      <td>6.205000</td>\n",
              "      <td>79.050000</td>\n",
              "      <td>3.107300</td>\n",
              "      <td>4.000000</td>\n",
              "      <td>330.000000</td>\n",
              "      <td>19.100000</td>\n",
              "      <td>391.440000</td>\n",
              "      <td>12.030000</td>\n",
              "    </tr>\n",
              "    <tr>\n",
              "      <th>75%</th>\n",
              "      <td>3.681942</td>\n",
              "      <td>12.500000</td>\n",
              "      <td>8.100000</td>\n",
              "      <td>0.000000</td>\n",
              "      <td>0.625750</td>\n",
              "      <td>6.604500</td>\n",
              "      <td>94.425000</td>\n",
              "      <td>5.116700</td>\n",
              "      <td>5.000000</td>\n",
              "      <td>666.000000</td>\n",
              "      <td>20.200000</td>\n",
              "      <td>396.352500</td>\n",
              "      <td>17.272500</td>\n",
              "    </tr>\n",
              "    <tr>\n",
              "      <th>max</th>\n",
              "      <td>88.976200</td>\n",
              "      <td>95.000000</td>\n",
              "      <td>9.900000</td>\n",
              "      <td>1.000000</td>\n",
              "      <td>0.871000</td>\n",
              "      <td>8.780000</td>\n",
              "      <td>100.000000</td>\n",
              "      <td>9.220300</td>\n",
              "      <td>8.000000</td>\n",
              "      <td>711.000000</td>\n",
              "      <td>22.000000</td>\n",
              "      <td>396.900000</td>\n",
              "      <td>37.970000</td>\n",
              "    </tr>\n",
              "  </tbody>\n",
              "</table>\n",
              "</div>"
            ],
            "text/plain": [
              "             CRIM          ZN  ...  B1000(BK0.63)^2      LSTAT%\n",
              "count  404.000000  404.000000  ...       404.000000  404.000000\n",
              "mean     3.604118   10.937411  ...       358.813713   12.986906\n",
              "std      8.642486   23.169894  ...        88.359651    7.261254\n",
              "min      0.009060    0.000000  ...         0.320000    1.730000\n",
              "25%      0.086963    0.000000  ...       376.092500    7.137500\n",
              "50%      0.289575    0.001000  ...       391.440000   12.030000\n",
              "75%      3.681942   12.500000  ...       396.352500   17.272500\n",
              "max     88.976200   95.000000  ...       396.900000   37.970000\n",
              "\n",
              "[8 rows x 13 columns]"
            ]
          },
          "metadata": {
            "tags": []
          },
          "execution_count": 123
        }
      ]
    },
    {
      "cell_type": "code",
      "metadata": {
        "id": "zooOh0Z0Hq1t",
        "colab_type": "code",
        "colab": {}
      },
      "source": [
        "from sklearn.pipeline import Pipeline\n",
        "from sklearn.preprocessing import StandardScaler\n",
        "from sklearn.impute import SimpleImputer\n",
        "\n",
        "num_pipeline = Pipeline([\n",
        "        ('imputer', SimpleImputer(strategy=\"median\")),\n",
        "        ('std_scaler', StandardScaler()),\n",
        "    ])\n",
        "\n",
        "#housing_num_tr = num_pipeline.fit_transform(housing)\n",
        "\n",
        "#Dont need to store housing_num_tr because we are create another pipeline\n",
        "#and do not want to transform twice."
      ],
      "execution_count": null,
      "outputs": []
    },
    {
      "cell_type": "code",
      "metadata": {
        "id": "PZ7N5q98Hq1u",
        "colab_type": "code",
        "colab": {}
      },
      "source": [
        "#housing_num_tr"
      ],
      "execution_count": null,
      "outputs": []
    },
    {
      "cell_type": "markdown",
      "metadata": {
        "id": "7-Vqnecbyyht",
        "colab_type": "text"
      },
      "source": [
        "So far, we have handled the categorical columns and the numerical columns separately. It would be more convenient to have a single transformer able to handle all columns, applying the appropriate transformations to each column. "
      ]
    },
    {
      "cell_type": "code",
      "metadata": {
        "id": "-2oNhYuuHq1w",
        "colab_type": "code",
        "colab": {}
      },
      "source": [
        "from sklearn.compose import ColumnTransformer\n",
        "from sklearn.preprocessing import OneHotEncoder \n",
        "\n",
        "num_attribs = list(housing.columns)\n",
        "#cat_attribs = [\"\"]\n",
        "\n",
        "full_pipeline = ColumnTransformer([\n",
        "        (\"num\", num_pipeline, num_attribs)\n",
        "        #(\"cat\", OneHotEncoder(), cat_attribs),\n",
        "    ])\n",
        "\n",
        "housing_prepared = full_pipeline.fit_transform(housing)"
      ],
      "execution_count": null,
      "outputs": []
    },
    {
      "cell_type": "code",
      "metadata": {
        "id": "HV3wnC53Hq1x",
        "colab_type": "code",
        "colab": {
          "base_uri": "https://localhost:8080/",
          "height": 51
        },
        "outputId": "a7a0cb34-8689-4807-a839-d545405f3749"
      },
      "source": [
        "# housing_prepared\n",
        "print(housing.shape)\n",
        "print(housing_prepared.shape)"
      ],
      "execution_count": null,
      "outputs": [
        {
          "output_type": "stream",
          "text": [
            "(404, 13)\n",
            "(404, 13)\n"
          ],
          "name": "stdout"
        }
      ]
    },
    {
      "cell_type": "code",
      "metadata": {
        "id": "Pbm9Tgr7Hq1y",
        "colab_type": "code",
        "colab": {
          "base_uri": "https://localhost:8080/",
          "height": 238
        },
        "outputId": "0acb84ec-49ab-44df-dca6-4c8b1102d1b2"
      },
      "source": [
        "housing_prepared"
      ],
      "execution_count": null,
      "outputs": [
        {
          "output_type": "execute_result",
          "data": {
            "text/plain": [
              "array([[-0.40006312, -0.47255158,  0.63841589, ...,  0.75789762,\n",
              "         0.41106168,  0.69951891],\n",
              "       [-0.14749306, -0.47259479,  1.32117591, ..., -1.75988744,\n",
              "        -0.02066525,  2.11425003],\n",
              "       [-0.40667589,  0.06752412,  0.68665437, ..., -1.5267592 ,\n",
              "         0.35905049,  0.37548206],\n",
              "       ...,\n",
              "       [-0.41267117,  0.73736836, -0.36346023, ..., -0.12798972,\n",
              "         0.41015517, -0.66557252],\n",
              "       [-0.40594603, -0.472638  , -1.32080852, ..., -0.31449231,\n",
              "         0.43157155, -1.00753482],\n",
              "       [-0.38383936, -0.47255158, -1.5323157 , ...,  1.27077976,\n",
              "         0.33162846,  1.54063585]])"
            ]
          },
          "metadata": {
            "tags": []
          },
          "execution_count": 128
        }
      ]
    },
    {
      "cell_type": "markdown",
      "metadata": {
        "id": "P_nkhocDHq18",
        "colab_type": "text"
      },
      "source": [
        "# Step 5. Select and train a model "
      ]
    },
    {
      "cell_type": "code",
      "metadata": {
        "id": "azXSvel5Hq18",
        "colab_type": "code",
        "colab": {
          "base_uri": "https://localhost:8080/",
          "height": 34
        },
        "outputId": "56822d99-df02-49c9-cd6d-33b13acb1397"
      },
      "source": [
        "from sklearn.linear_model import LinearRegression\n",
        "\n",
        "lin_reg = LinearRegression()\n",
        "lin_reg.fit(housing_prepared, housing_labels)"
      ],
      "execution_count": null,
      "outputs": [
        {
          "output_type": "execute_result",
          "data": {
            "text/plain": [
              "LinearRegression(copy_X=True, fit_intercept=True, n_jobs=None, normalize=False)"
            ]
          },
          "metadata": {
            "tags": []
          },
          "execution_count": 129
        }
      ]
    },
    {
      "cell_type": "code",
      "metadata": {
        "id": "WRyFsOKhHq1-",
        "colab_type": "code",
        "colab": {
          "base_uri": "https://localhost:8080/",
          "height": 34
        },
        "outputId": "b156070e-c569-4764-f7bc-c565163d4a63"
      },
      "source": [
        "# let's try the full preprocessing pipeline on a few training instances\n",
        "some_data = housing.iloc[:5]\n",
        "some_labels = housing_labels.iloc[:5]\n",
        "some_data_prepared = full_pipeline.transform(some_data)\n",
        "# Note here that you only use transform() instead of fit_tranform becausue you are not trying to learn any parameter (ie. median)\n",
        "\n",
        "print(\"Predictions:\", lin_reg.predict(some_data_prepared))"
      ],
      "execution_count": null,
      "outputs": [
        {
          "output_type": "stream",
          "text": [
            "Predictions: [15.43212681 12.22795362 21.88107191 26.41723248 21.14781361]\n"
          ],
          "name": "stdout"
        }
      ]
    },
    {
      "cell_type": "markdown",
      "metadata": {
        "id": "FBP9-NuJHq1_",
        "colab_type": "text"
      },
      "source": [
        "Compare against the actual values:"
      ]
    },
    {
      "cell_type": "code",
      "metadata": {
        "id": "uvivPcTIHq1_",
        "colab_type": "code",
        "colab": {
          "base_uri": "https://localhost:8080/",
          "height": 34
        },
        "outputId": "3328a3e1-d472-4294-d1e5-65ab78f6a9d0"
      },
      "source": [
        "print(\"Labels:\", list(some_labels))"
      ],
      "execution_count": null,
      "outputs": [
        {
          "output_type": "stream",
          "text": [
            "Labels: [15.2, 17.8, 21.7, 22.6, 19.3]\n"
          ],
          "name": "stdout"
        }
      ]
    },
    {
      "cell_type": "code",
      "metadata": {
        "id": "2R7y-mhfHq2F",
        "colab_type": "code",
        "colab": {
          "base_uri": "https://localhost:8080/",
          "height": 272
        },
        "outputId": "d3040098-1e9b-407c-fecc-6d96b45eab82"
      },
      "source": [
        "some_data_prepared"
      ],
      "execution_count": null,
      "outputs": [
        {
          "output_type": "execute_result",
          "data": {
            "text/plain": [
              "array([[-0.40006312, -0.47255158,  0.63841589, -0.28322059,  0.44594732,\n",
              "        -1.22789369,  0.83128875, -0.95802293, -0.25287297,  1.77347779,\n",
              "         0.75789762,  0.41106168,  0.69951891],\n",
              "       [-0.14749306, -0.47259479,  1.32117591, -0.28322059,  2.69268603,\n",
              "        -1.61906355,  0.86990404, -1.10698855,  0.4565762 , -0.03789215,\n",
              "        -1.75988744, -0.02066525,  2.11425003],\n",
              "       [-0.40667589,  0.06752412,  0.68665437, -0.28322059, -0.28295646,\n",
              "        -0.59297248, -1.05383931,  0.89829426,  0.4565762 , -0.5789507 ,\n",
              "        -1.5267592 ,  0.35905049,  0.37548206],\n",
              "       [-0.40975057, -0.472638  , -1.03137764, -0.28322059, -0.83177813,\n",
              "         0.05508503, -1.81912408,  0.77745465, -0.25287297,  0.12089677,\n",
              "        -0.73412316,  0.18579314, -0.7786407 ],\n",
              "       [-0.39768122, -0.472638  ,  0.33043175, -0.28322059, -0.93468219,\n",
              "        -0.8951074 , -1.2363843 ,  0.71905481, -0.96232214, -1.03767426,\n",
              "        -0.26786666,  0.43157155, -0.38290207]])"
            ]
          },
          "metadata": {
            "tags": []
          },
          "execution_count": 132
        }
      ]
    },
    {
      "cell_type": "code",
      "metadata": {
        "id": "1fcA1sekHq2G",
        "colab_type": "code",
        "colab": {
          "base_uri": "https://localhost:8080/",
          "height": 34
        },
        "outputId": "09f642b8-b7f9-4823-c7d8-30f5eef92b88"
      },
      "source": [
        "from sklearn.metrics import mean_squared_error\n",
        "\n",
        "housing_predictions = lin_reg.predict(housing_prepared)\n",
        "lin_mse = mean_squared_error(housing_labels, housing_predictions)\n",
        "lin_rmse = np.sqrt(lin_mse)\n",
        "lin_rmse"
      ],
      "execution_count": null,
      "outputs": [
        {
          "output_type": "execute_result",
          "data": {
            "text/plain": [
              "4.38600581808717"
            ]
          },
          "metadata": {
            "tags": []
          },
          "execution_count": 133
        }
      ]
    },
    {
      "cell_type": "markdown",
      "metadata": {
        "id": "wxNspE6J6W4h",
        "colab_type": "text"
      },
      "source": [
        "OK, this is better than nothing but clearly not a great score: most districts’ median_housing_values range between \\$120,000 and \\$265,000, so a typical prediction error of $68,628 is not very satisfying. This is an example of a model underfitting the training data. When this happens it can mean that the features do not provide enough information to make good predictions, or that the model is not powerful enough."
      ]
    },
    {
      "cell_type": "code",
      "metadata": {
        "id": "i56j8ufHHq2I",
        "colab_type": "code",
        "colab": {
          "base_uri": "https://localhost:8080/",
          "height": 34
        },
        "outputId": "8a6c60b8-219d-472a-b74b-8f7ce3992b8f"
      },
      "source": [
        "from sklearn.metrics import mean_absolute_error\n",
        "\n",
        "lin_mae = mean_absolute_error(housing_labels, housing_predictions)\n",
        "lin_mae"
      ],
      "execution_count": null,
      "outputs": [
        {
          "output_type": "execute_result",
          "data": {
            "text/plain": [
              "3.081319256687493"
            ]
          },
          "metadata": {
            "tags": []
          },
          "execution_count": 134
        }
      ]
    },
    {
      "cell_type": "markdown",
      "metadata": {
        "id": "F25kDL_R6iTQ",
        "colab_type": "text"
      },
      "source": [
        "Let’s train a DecisionTreeRegressor. This is a powerful model, capable of finding complex nonlinear relationships in the data (Decision Trees are presented in more detail in Chapter 6). The code should look familiar by now:"
      ]
    },
    {
      "cell_type": "code",
      "metadata": {
        "id": "KMtpOThbHq2K",
        "colab_type": "code",
        "colab": {
          "base_uri": "https://localhost:8080/",
          "height": 119
        },
        "outputId": "393f56c8-a557-47b5-dba4-73960bfd8faa"
      },
      "source": [
        "from sklearn.tree import DecisionTreeRegressor\n",
        "\n",
        "tree_reg = DecisionTreeRegressor(random_state=42)\n",
        "tree_reg.fit(housing_prepared, housing_labels)"
      ],
      "execution_count": null,
      "outputs": [
        {
          "output_type": "execute_result",
          "data": {
            "text/plain": [
              "DecisionTreeRegressor(ccp_alpha=0.0, criterion='mse', max_depth=None,\n",
              "                      max_features=None, max_leaf_nodes=None,\n",
              "                      min_impurity_decrease=0.0, min_impurity_split=None,\n",
              "                      min_samples_leaf=1, min_samples_split=2,\n",
              "                      min_weight_fraction_leaf=0.0, presort='deprecated',\n",
              "                      random_state=42, splitter='best')"
            ]
          },
          "metadata": {
            "tags": []
          },
          "execution_count": 135
        }
      ]
    },
    {
      "cell_type": "code",
      "metadata": {
        "id": "WIQsfp0rHq2L",
        "colab_type": "code",
        "colab": {
          "base_uri": "https://localhost:8080/",
          "height": 34
        },
        "outputId": "29e2cc94-7d6a-452f-c911-a84234527b56"
      },
      "source": [
        "housing_predictions = tree_reg.predict(housing_prepared)\n",
        "tree_mse = mean_squared_error(housing_labels, housing_predictions)\n",
        "tree_rmse = np.sqrt(tree_mse)\n",
        "tree_rmse"
      ],
      "execution_count": null,
      "outputs": [
        {
          "output_type": "execute_result",
          "data": {
            "text/plain": [
              "0.0"
            ]
          },
          "metadata": {
            "tags": []
          },
          "execution_count": 136
        }
      ]
    },
    {
      "cell_type": "markdown",
      "metadata": {
        "id": "A_unyzYY6sgU",
        "colab_type": "text"
      },
      "source": [
        "**Wait, what!?** No error at all? Could this model really be absolutely perfect? Of course, it is much more likely that the model has badly overfit the data. How can you be sure? As we saw earlier, you don’t want to touch the test set until you are ready to launch a model you are confident about, so you need to use part of the training set for training and part of it for model validation."
      ]
    },
    {
      "cell_type": "markdown",
      "metadata": {
        "id": "OCnSinAiZJfb",
        "colab_type": "text"
      },
      "source": [
        "A great alternative is to use Scikit-Learn’s K-fold cross-validation feature. The following code randomly splits the training set into 10 distinct subsets called folds, then it trains and evaluates the Decision Tree model 10 times, picking a different fold for evaluation every time and training on the other 9 folds. The result is an array containing the 10 evaluation scores"
      ]
    },
    {
      "cell_type": "code",
      "metadata": {
        "id": "MtuLZoHiHq2M",
        "colab_type": "code",
        "colab": {}
      },
      "source": [
        "from sklearn.model_selection import cross_val_score\n",
        "\n",
        "scores = cross_val_score(tree_reg, housing_prepared, housing_labels,\n",
        "                         scoring=\"neg_mean_squared_error\", cv=10)\n",
        "tree_rmse_scores = np.sqrt(-scores)"
      ],
      "execution_count": null,
      "outputs": []
    },
    {
      "cell_type": "markdown",
      "metadata": {
        "id": "WTByXk6mZXw-",
        "colab_type": "text"
      },
      "source": [
        "**Note:** Scikit-Learn’s cross-validation features expect a utility function (greater is better) rather than a cost function (lower is better), so the scoring function is actually the opposite of the MSE (i.e., a negative value), which is why the preceding code computes -scores before calculating the square root"
      ]
    },
    {
      "cell_type": "code",
      "metadata": {
        "id": "EL1EyD_fHq2N",
        "colab_type": "code",
        "colab": {
          "base_uri": "https://localhost:8080/",
          "height": 85
        },
        "outputId": "ae763a10-243f-4fd2-b88b-ca20e60cb385"
      },
      "source": [
        "def display_scores(scores):\n",
        "    print(\"Scores:\", scores)\n",
        "    print(\"Mean:\", scores.mean())\n",
        "    print(\"Standard deviation:\", scores.std())\n",
        "\n",
        "display_scores(tree_rmse_scores)"
      ],
      "execution_count": null,
      "outputs": [
        {
          "output_type": "stream",
          "text": [
            "Scores: [4.00438784 5.32467794 2.6009848  4.09708403 4.96235831 3.47807418\n",
            " 5.75471546 5.11302259 8.98461184 7.1754965 ]\n",
            "Mean: 5.149541348933861\n",
            "Standard deviation: 1.7593614052141247\n"
          ],
          "name": "stdout"
        }
      ]
    },
    {
      "cell_type": "markdown",
      "metadata": {
        "id": "TQWkJe5KZ2wJ",
        "colab_type": "text"
      },
      "source": [
        "Let’s compute the same scores for the Linear Regression model just to be sure"
      ]
    },
    {
      "cell_type": "code",
      "metadata": {
        "id": "T88yB73IHq2P",
        "colab_type": "code",
        "colab": {
          "base_uri": "https://localhost:8080/",
          "height": 85
        },
        "outputId": "a6d0f60b-ed04-4c8c-d7a3-79080aaae780"
      },
      "source": [
        "lin_scores = cross_val_score(lin_reg, housing_prepared, housing_labels,\n",
        "                             scoring=\"neg_mean_squared_error\", cv=10)\n",
        "lin_rmse_scores = np.sqrt(-lin_scores)\n",
        "display_scores(lin_rmse_scores)"
      ],
      "execution_count": null,
      "outputs": [
        {
          "output_type": "stream",
          "text": [
            "Scores: [4.5161078  4.70404641 3.81251657 4.03182357 3.75262773 2.82824446\n",
            " 5.53961839 5.03027169 5.22305223 5.61526439]\n",
            "Mean: 4.505357322322988\n",
            "Standard deviation: 0.8494336665812403\n"
          ],
          "name": "stdout"
        }
      ]
    },
    {
      "cell_type": "markdown",
      "metadata": {
        "id": "yEOyx5MLHq2Q",
        "colab_type": "text"
      },
      "source": [
        "Let’s try one last model now: the RandomForestRegressor. As we will see in Chapter 7, Random Forests work by training many Decision Trees on random subsets of the features, then averaging out their predictions. Building a model on top of many other models is called Ensemble Learning, and it is often a great way to push ML algorithms even further. We will skip most of the code since it is essentially the same as for the other models:\n",
        "\n",
        "**Note**: we specify `n_estimators=100` to be future-proof since the default value is going to change to 100 in Scikit-Learn 0.22 (for simplicity, this is not shown in the book)."
      ]
    },
    {
      "cell_type": "code",
      "metadata": {
        "id": "JBhpBR8MHq2Q",
        "colab_type": "code",
        "colab": {
          "base_uri": "https://localhost:8080/",
          "height": 136
        },
        "outputId": "f728c037-aeb3-4ec5-f9c8-19c77e30428f"
      },
      "source": [
        "from sklearn.ensemble import RandomForestRegressor\n",
        "\n",
        "forest_reg = RandomForestRegressor(n_estimators=100, random_state=42)\n",
        "forest_reg.fit(housing_prepared, housing_labels)"
      ],
      "execution_count": null,
      "outputs": [
        {
          "output_type": "execute_result",
          "data": {
            "text/plain": [
              "RandomForestRegressor(bootstrap=True, ccp_alpha=0.0, criterion='mse',\n",
              "                      max_depth=None, max_features='auto', max_leaf_nodes=None,\n",
              "                      max_samples=None, min_impurity_decrease=0.0,\n",
              "                      min_impurity_split=None, min_samples_leaf=1,\n",
              "                      min_samples_split=2, min_weight_fraction_leaf=0.0,\n",
              "                      n_estimators=100, n_jobs=None, oob_score=False,\n",
              "                      random_state=42, verbose=0, warm_start=False)"
            ]
          },
          "metadata": {
            "tags": []
          },
          "execution_count": 140
        }
      ]
    },
    {
      "cell_type": "code",
      "metadata": {
        "id": "l0xvYURGHq2R",
        "colab_type": "code",
        "colab": {
          "base_uri": "https://localhost:8080/",
          "height": 34
        },
        "outputId": "bc71c8fa-0fa0-456d-a225-75a125f805ef"
      },
      "source": [
        "housing_predictions = forest_reg.predict(housing_prepared)\n",
        "forest_mse = mean_squared_error(housing_labels, housing_predictions)\n",
        "forest_rmse = np.sqrt(forest_mse)\n",
        "forest_rmse"
      ],
      "execution_count": null,
      "outputs": [
        {
          "output_type": "execute_result",
          "data": {
            "text/plain": [
              "1.4477686364721654"
            ]
          },
          "metadata": {
            "tags": []
          },
          "execution_count": 141
        }
      ]
    },
    {
      "cell_type": "markdown",
      "metadata": {
        "id": "aivy7V3waRgb",
        "colab_type": "text"
      },
      "source": [
        "Wow, this is much better: Random Forests look very promising. However, note that the score on the training set is still much lower than on the validation sets, meaning that the model is still overfitting the training set"
      ]
    },
    {
      "cell_type": "code",
      "metadata": {
        "id": "DLGyTHbLHq2S",
        "colab_type": "code",
        "colab": {
          "base_uri": "https://localhost:8080/",
          "height": 85
        },
        "outputId": "3096e096-ad88-4286-c36d-1db6167aa53d"
      },
      "source": [
        "from sklearn.model_selection import cross_val_score\n",
        "\n",
        "forest_scores = cross_val_score(forest_reg, housing_prepared, housing_labels,\n",
        "                                scoring=\"neg_mean_squared_error\", cv=10)\n",
        "forest_rmse_scores = np.sqrt(-forest_scores)\n",
        "display_scores(forest_rmse_scores)"
      ],
      "execution_count": null,
      "outputs": [
        {
          "output_type": "stream",
          "text": [
            "Scores: [3.65633243 4.24251128 2.46667151 3.12905222 2.58900086 2.34163429\n",
            " 5.11376816 3.85886385 3.75699037 4.44696357]\n",
            "Mean: 3.5601788535979724\n",
            "Standard deviation: 0.8724943240942923\n"
          ],
          "name": "stdout"
        }
      ]
    },
    {
      "cell_type": "code",
      "metadata": {
        "id": "o2qRs2M8Hq2T",
        "colab_type": "code",
        "colab": {
          "base_uri": "https://localhost:8080/",
          "height": 170
        },
        "outputId": "91ea0ebb-116f-41a7-f9f7-361b4b325a5f"
      },
      "source": [
        "scores = cross_val_score(lin_reg, housing_prepared, housing_labels, scoring=\"neg_mean_squared_error\", cv=10)\n",
        "pd.Series(np.sqrt(-scores)).describe()"
      ],
      "execution_count": null,
      "outputs": [
        {
          "output_type": "execute_result",
          "data": {
            "text/plain": [
              "count    10.000000\n",
              "mean      4.505357\n",
              "std       0.895382\n",
              "min       2.828244\n",
              "25%       3.867343\n",
              "50%       4.610077\n",
              "75%       5.174857\n",
              "max       5.615264\n",
              "dtype: float64"
            ]
          },
          "metadata": {
            "tags": []
          },
          "execution_count": 143
        }
      ]
    },
    {
      "cell_type": "markdown",
      "metadata": {
        "id": "q_SpMFopajCD",
        "colab_type": "text"
      },
      "source": [
        "# Step 6. Fine tune your model"
      ]
    },
    {
      "cell_type": "code",
      "metadata": {
        "id": "p4FNqvtYHq2V",
        "colab_type": "code",
        "colab": {
          "base_uri": "https://localhost:8080/",
          "height": 394
        },
        "outputId": "f679912f-785c-4e73-a4ee-a7ba73d697eb"
      },
      "source": [
        "from sklearn.model_selection import GridSearchCV\n",
        "\n",
        "param_grid = [\n",
        "    # try 12 (3×4) combinations of hyperparameters\n",
        "    {'n_estimators': [3, 10, 30], 'max_features': [2, 4, 6, 8]},\n",
        "    # then try 6 (2×3) combinations with bootstrap set as False\n",
        "    {'bootstrap': [False], 'n_estimators': [3, 10], 'max_features': [2, 3, 4]},\n",
        "  ]\n",
        "\n",
        "forest_reg = RandomForestRegressor(random_state=42)\n",
        "# train across 5 folds, that's a total of 90 rounds of training \n",
        "grid_search = GridSearchCV(forest_reg, param_grid, cv=5,\n",
        "                           scoring='neg_mean_squared_error',\n",
        "                           return_train_score=True)\n",
        "grid_search.fit(housing_prepared, housing_labels)"
      ],
      "execution_count": null,
      "outputs": [
        {
          "output_type": "execute_result",
          "data": {
            "text/plain": [
              "GridSearchCV(cv=5, error_score=nan,\n",
              "             estimator=RandomForestRegressor(bootstrap=True, ccp_alpha=0.0,\n",
              "                                             criterion='mse', max_depth=None,\n",
              "                                             max_features='auto',\n",
              "                                             max_leaf_nodes=None,\n",
              "                                             max_samples=None,\n",
              "                                             min_impurity_decrease=0.0,\n",
              "                                             min_impurity_split=None,\n",
              "                                             min_samples_leaf=1,\n",
              "                                             min_samples_split=2,\n",
              "                                             min_weight_fraction_leaf=0.0,\n",
              "                                             n_estimators=100, n_jobs=None,\n",
              "                                             oob_score=False, random_state=42,\n",
              "                                             verbose=0, warm_start=False),\n",
              "             iid='deprecated', n_jobs=None,\n",
              "             param_grid=[{'max_features': [2, 4, 6, 8],\n",
              "                          'n_estimators': [3, 10, 30]},\n",
              "                         {'bootstrap': [False], 'max_features': [2, 3, 4],\n",
              "                          'n_estimators': [3, 10]}],\n",
              "             pre_dispatch='2*n_jobs', refit=True, return_train_score=True,\n",
              "             scoring='neg_mean_squared_error', verbose=0)"
            ]
          },
          "metadata": {
            "tags": []
          },
          "execution_count": 144
        }
      ]
    },
    {
      "cell_type": "markdown",
      "metadata": {
        "id": "G7U3xlF_Hq2W",
        "colab_type": "text"
      },
      "source": [
        "The best hyperparameter combination found:"
      ]
    },
    {
      "cell_type": "code",
      "metadata": {
        "id": "qVf8lUp6Hq2W",
        "colab_type": "code",
        "colab": {
          "base_uri": "https://localhost:8080/",
          "height": 54
        },
        "outputId": "54ebdce4-542a-4344-cc78-ac52ae5969eb"
      },
      "source": [
        "grid_search.best_params_"
      ],
      "execution_count": null,
      "outputs": [
        {
          "output_type": "execute_result",
          "data": {
            "text/plain": [
              "{'bootstrap': False, 'max_features': 4, 'n_estimators': 10}"
            ]
          },
          "metadata": {
            "tags": []
          },
          "execution_count": 145
        }
      ]
    },
    {
      "cell_type": "code",
      "metadata": {
        "id": "zULpx473Hq2X",
        "colab_type": "code",
        "colab": {
          "base_uri": "https://localhost:8080/",
          "height": 156
        },
        "outputId": "7eec7d64-fd55-4d90-e6da-4406435241ba"
      },
      "source": [
        "grid_search.best_estimator_"
      ],
      "execution_count": null,
      "outputs": [
        {
          "output_type": "execute_result",
          "data": {
            "text/plain": [
              "RandomForestRegressor(bootstrap=False, ccp_alpha=0.0, criterion='mse',\n",
              "                      max_depth=None, max_features=4, max_leaf_nodes=None,\n",
              "                      max_samples=None, min_impurity_decrease=0.0,\n",
              "                      min_impurity_split=None, min_samples_leaf=1,\n",
              "                      min_samples_split=2, min_weight_fraction_leaf=0.0,\n",
              "                      n_estimators=10, n_jobs=None, oob_score=False,\n",
              "                      random_state=42, verbose=0, warm_start=False)"
            ]
          },
          "metadata": {
            "tags": []
          },
          "execution_count": 146
        }
      ]
    },
    {
      "cell_type": "markdown",
      "metadata": {
        "id": "7-_dPJnVHq2Z",
        "colab_type": "text"
      },
      "source": [
        "Let's look at the score of each hyperparameter combination tested during the grid search:"
      ]
    },
    {
      "cell_type": "code",
      "metadata": {
        "id": "BmrjOoA_Hq2Z",
        "colab_type": "code",
        "colab": {
          "base_uri": "https://localhost:8080/",
          "height": 343
        },
        "outputId": "265a23dd-0735-4048-8821-007a18a72c41"
      },
      "source": [
        "cvres = grid_search.cv_results_\n",
        "# zip() is to combine the column \"mean_test_score\" with struct \"params\"\n",
        "for mean_score, params in zip(cvres[\"mean_test_score\"], cvres[\"params\"]):\n",
        "    print(np.sqrt(-mean_score), params)"
      ],
      "execution_count": null,
      "outputs": [
        {
          "output_type": "stream",
          "text": [
            "4.748547359279427 {'max_features': 2, 'n_estimators': 3}\n",
            "3.909268885499666 {'max_features': 2, 'n_estimators': 10}\n",
            "3.57970693379003 {'max_features': 2, 'n_estimators': 30}\n",
            "4.562739017923226 {'max_features': 4, 'n_estimators': 3}\n",
            "3.597814468191886 {'max_features': 4, 'n_estimators': 10}\n",
            "3.4937649762384813 {'max_features': 4, 'n_estimators': 30}\n",
            "4.482698472651023 {'max_features': 6, 'n_estimators': 3}\n",
            "3.694047319925917 {'max_features': 6, 'n_estimators': 10}\n",
            "3.4337245520546227 {'max_features': 6, 'n_estimators': 30}\n",
            "4.410270086507134 {'max_features': 8, 'n_estimators': 3}\n",
            "3.711151795768339 {'max_features': 8, 'n_estimators': 10}\n",
            "3.5527710309881013 {'max_features': 8, 'n_estimators': 30}\n",
            "4.338982907092215 {'bootstrap': False, 'max_features': 2, 'n_estimators': 3}\n",
            "3.39386158707485 {'bootstrap': False, 'max_features': 2, 'n_estimators': 10}\n",
            "4.130620226647583 {'bootstrap': False, 'max_features': 3, 'n_estimators': 3}\n",
            "3.3766245536842274 {'bootstrap': False, 'max_features': 3, 'n_estimators': 10}\n",
            "3.824492780413481 {'bootstrap': False, 'max_features': 4, 'n_estimators': 3}\n",
            "3.346211394626894 {'bootstrap': False, 'max_features': 4, 'n_estimators': 10}\n"
          ],
          "name": "stdout"
        }
      ]
    },
    {
      "cell_type": "code",
      "metadata": {
        "id": "XEh-bCBTHq2a",
        "colab_type": "code",
        "colab": {
          "base_uri": "https://localhost:8080/",
          "height": 1000
        },
        "outputId": "b8465759-441c-4f72-e02e-56778c45b75c"
      },
      "source": [
        "# View the research results in table format\n",
        "pd.DataFrame(grid_search.cv_results_)"
      ],
      "execution_count": null,
      "outputs": [
        {
          "output_type": "execute_result",
          "data": {
            "text/html": [
              "<div>\n",
              "<style scoped>\n",
              "    .dataframe tbody tr th:only-of-type {\n",
              "        vertical-align: middle;\n",
              "    }\n",
              "\n",
              "    .dataframe tbody tr th {\n",
              "        vertical-align: top;\n",
              "    }\n",
              "\n",
              "    .dataframe thead th {\n",
              "        text-align: right;\n",
              "    }\n",
              "</style>\n",
              "<table border=\"1\" class=\"dataframe\">\n",
              "  <thead>\n",
              "    <tr style=\"text-align: right;\">\n",
              "      <th></th>\n",
              "      <th>mean_fit_time</th>\n",
              "      <th>std_fit_time</th>\n",
              "      <th>mean_score_time</th>\n",
              "      <th>std_score_time</th>\n",
              "      <th>param_max_features</th>\n",
              "      <th>param_n_estimators</th>\n",
              "      <th>param_bootstrap</th>\n",
              "      <th>params</th>\n",
              "      <th>split0_test_score</th>\n",
              "      <th>split1_test_score</th>\n",
              "      <th>split2_test_score</th>\n",
              "      <th>split3_test_score</th>\n",
              "      <th>split4_test_score</th>\n",
              "      <th>mean_test_score</th>\n",
              "      <th>std_test_score</th>\n",
              "      <th>rank_test_score</th>\n",
              "      <th>split0_train_score</th>\n",
              "      <th>split1_train_score</th>\n",
              "      <th>split2_train_score</th>\n",
              "      <th>split3_train_score</th>\n",
              "      <th>split4_train_score</th>\n",
              "      <th>mean_train_score</th>\n",
              "      <th>std_train_score</th>\n",
              "    </tr>\n",
              "  </thead>\n",
              "  <tbody>\n",
              "    <tr>\n",
              "      <th>0</th>\n",
              "      <td>0.006865</td>\n",
              "      <td>0.001998</td>\n",
              "      <td>0.001033</td>\n",
              "      <td>0.000179</td>\n",
              "      <td>2</td>\n",
              "      <td>3</td>\n",
              "      <td>NaN</td>\n",
              "      <td>{'max_features': 2, 'n_estimators': 3}</td>\n",
              "      <td>-26.673923</td>\n",
              "      <td>-12.608916</td>\n",
              "      <td>-17.043690</td>\n",
              "      <td>-36.741550</td>\n",
              "      <td>-19.675431</td>\n",
              "      <td>-22.548702</td>\n",
              "      <td>8.435811</td>\n",
              "      <td>18</td>\n",
              "      <td>-5.518944e+00</td>\n",
              "      <td>-9.197898e+00</td>\n",
              "      <td>-8.399102e+00</td>\n",
              "      <td>-7.297819e+00</td>\n",
              "      <td>-5.971646e+00</td>\n",
              "      <td>-7.277082e+00</td>\n",
              "      <td>1.396002e+00</td>\n",
              "    </tr>\n",
              "    <tr>\n",
              "      <th>1</th>\n",
              "      <td>0.015931</td>\n",
              "      <td>0.000299</td>\n",
              "      <td>0.001475</td>\n",
              "      <td>0.000036</td>\n",
              "      <td>2</td>\n",
              "      <td>10</td>\n",
              "      <td>NaN</td>\n",
              "      <td>{'max_features': 2, 'n_estimators': 10}</td>\n",
              "      <td>-21.401243</td>\n",
              "      <td>-7.284138</td>\n",
              "      <td>-7.385938</td>\n",
              "      <td>-25.338593</td>\n",
              "      <td>-15.002004</td>\n",
              "      <td>-15.282383</td>\n",
              "      <td>7.279728</td>\n",
              "      <td>12</td>\n",
              "      <td>-3.253100e+00</td>\n",
              "      <td>-4.547672e+00</td>\n",
              "      <td>-4.063580e+00</td>\n",
              "      <td>-3.052389e+00</td>\n",
              "      <td>-2.864595e+00</td>\n",
              "      <td>-3.556267e+00</td>\n",
              "      <td>6.425674e-01</td>\n",
              "    </tr>\n",
              "    <tr>\n",
              "      <th>2</th>\n",
              "      <td>0.046112</td>\n",
              "      <td>0.001515</td>\n",
              "      <td>0.002742</td>\n",
              "      <td>0.000040</td>\n",
              "      <td>2</td>\n",
              "      <td>30</td>\n",
              "      <td>NaN</td>\n",
              "      <td>{'max_features': 2, 'n_estimators': 30}</td>\n",
              "      <td>-18.157518</td>\n",
              "      <td>-7.017485</td>\n",
              "      <td>-5.353716</td>\n",
              "      <td>-21.562666</td>\n",
              "      <td>-11.980124</td>\n",
              "      <td>-12.814302</td>\n",
              "      <td>6.245688</td>\n",
              "      <td>7</td>\n",
              "      <td>-2.268374e+00</td>\n",
              "      <td>-2.576066e+00</td>\n",
              "      <td>-2.777483e+00</td>\n",
              "      <td>-2.137403e+00</td>\n",
              "      <td>-2.199638e+00</td>\n",
              "      <td>-2.391793e+00</td>\n",
              "      <td>2.447788e-01</td>\n",
              "    </tr>\n",
              "    <tr>\n",
              "      <th>3</th>\n",
              "      <td>0.006234</td>\n",
              "      <td>0.000188</td>\n",
              "      <td>0.000984</td>\n",
              "      <td>0.000022</td>\n",
              "      <td>4</td>\n",
              "      <td>3</td>\n",
              "      <td>NaN</td>\n",
              "      <td>{'max_features': 4, 'n_estimators': 3}</td>\n",
              "      <td>-23.341056</td>\n",
              "      <td>-10.979232</td>\n",
              "      <td>-17.850384</td>\n",
              "      <td>-30.008834</td>\n",
              "      <td>-21.913431</td>\n",
              "      <td>-20.818587</td>\n",
              "      <td>6.287214</td>\n",
              "      <td>17</td>\n",
              "      <td>-5.578555e+00</td>\n",
              "      <td>-8.732996e+00</td>\n",
              "      <td>-7.766897e+00</td>\n",
              "      <td>-5.461376e+00</td>\n",
              "      <td>-6.636598e+00</td>\n",
              "      <td>-6.835285e+00</td>\n",
              "      <td>1.262987e+00</td>\n",
              "    </tr>\n",
              "    <tr>\n",
              "      <th>4</th>\n",
              "      <td>0.018699</td>\n",
              "      <td>0.000810</td>\n",
              "      <td>0.001752</td>\n",
              "      <td>0.000332</td>\n",
              "      <td>4</td>\n",
              "      <td>10</td>\n",
              "      <td>NaN</td>\n",
              "      <td>{'max_features': 4, 'n_estimators': 10}</td>\n",
              "      <td>-16.661581</td>\n",
              "      <td>-6.328389</td>\n",
              "      <td>-6.962799</td>\n",
              "      <td>-20.388852</td>\n",
              "      <td>-14.379724</td>\n",
              "      <td>-12.944269</td>\n",
              "      <td>5.492697</td>\n",
              "      <td>8</td>\n",
              "      <td>-2.583480e+00</td>\n",
              "      <td>-3.769630e+00</td>\n",
              "      <td>-3.360349e+00</td>\n",
              "      <td>-2.526548e+00</td>\n",
              "      <td>-3.007471e+00</td>\n",
              "      <td>-3.049496e+00</td>\n",
              "      <td>4.706664e-01</td>\n",
              "    </tr>\n",
              "    <tr>\n",
              "      <th>5</th>\n",
              "      <td>0.050317</td>\n",
              "      <td>0.000962</td>\n",
              "      <td>0.002687</td>\n",
              "      <td>0.000039</td>\n",
              "      <td>4</td>\n",
              "      <td>30</td>\n",
              "      <td>NaN</td>\n",
              "      <td>{'max_features': 4, 'n_estimators': 30}</td>\n",
              "      <td>-16.660670</td>\n",
              "      <td>-4.990274</td>\n",
              "      <td>-5.483509</td>\n",
              "      <td>-21.293162</td>\n",
              "      <td>-12.604352</td>\n",
              "      <td>-12.206394</td>\n",
              "      <td>6.321991</td>\n",
              "      <td>5</td>\n",
              "      <td>-2.073279e+00</td>\n",
              "      <td>-2.324226e+00</td>\n",
              "      <td>-2.057546e+00</td>\n",
              "      <td>-1.824437e+00</td>\n",
              "      <td>-2.126181e+00</td>\n",
              "      <td>-2.081134e+00</td>\n",
              "      <td>1.597713e-01</td>\n",
              "    </tr>\n",
              "    <tr>\n",
              "      <th>6</th>\n",
              "      <td>0.006766</td>\n",
              "      <td>0.000205</td>\n",
              "      <td>0.001038</td>\n",
              "      <td>0.000118</td>\n",
              "      <td>6</td>\n",
              "      <td>3</td>\n",
              "      <td>NaN</td>\n",
              "      <td>{'max_features': 6, 'n_estimators': 3}</td>\n",
              "      <td>-23.117517</td>\n",
              "      <td>-10.079863</td>\n",
              "      <td>-14.719342</td>\n",
              "      <td>-26.459040</td>\n",
              "      <td>-26.097167</td>\n",
              "      <td>-20.094586</td>\n",
              "      <td>6.555353</td>\n",
              "      <td>16</td>\n",
              "      <td>-3.827798e+00</td>\n",
              "      <td>-4.843908e+00</td>\n",
              "      <td>-7.288256e+00</td>\n",
              "      <td>-6.214995e+00</td>\n",
              "      <td>-9.291149e+00</td>\n",
              "      <td>-6.293221e+00</td>\n",
              "      <td>1.905917e+00</td>\n",
              "    </tr>\n",
              "    <tr>\n",
              "      <th>7</th>\n",
              "      <td>0.020003</td>\n",
              "      <td>0.000492</td>\n",
              "      <td>0.001459</td>\n",
              "      <td>0.000077</td>\n",
              "      <td>6</td>\n",
              "      <td>10</td>\n",
              "      <td>NaN</td>\n",
              "      <td>{'max_features': 6, 'n_estimators': 10}</td>\n",
              "      <td>-17.542678</td>\n",
              "      <td>-6.724937</td>\n",
              "      <td>-9.178623</td>\n",
              "      <td>-19.163921</td>\n",
              "      <td>-15.619769</td>\n",
              "      <td>-13.645986</td>\n",
              "      <td>4.845325</td>\n",
              "      <td>9</td>\n",
              "      <td>-2.762706e+00</td>\n",
              "      <td>-2.812850e+00</td>\n",
              "      <td>-3.396482e+00</td>\n",
              "      <td>-2.488704e+00</td>\n",
              "      <td>-3.110445e+00</td>\n",
              "      <td>-2.914237e+00</td>\n",
              "      <td>3.115691e-01</td>\n",
              "    </tr>\n",
              "    <tr>\n",
              "      <th>8</th>\n",
              "      <td>0.058118</td>\n",
              "      <td>0.001781</td>\n",
              "      <td>0.002785</td>\n",
              "      <td>0.000068</td>\n",
              "      <td>6</td>\n",
              "      <td>30</td>\n",
              "      <td>NaN</td>\n",
              "      <td>{'max_features': 6, 'n_estimators': 30}</td>\n",
              "      <td>-15.238583</td>\n",
              "      <td>-5.636987</td>\n",
              "      <td>-6.068242</td>\n",
              "      <td>-18.244781</td>\n",
              "      <td>-13.763730</td>\n",
              "      <td>-11.790464</td>\n",
              "      <td>5.060645</td>\n",
              "      <td>4</td>\n",
              "      <td>-2.030894e+00</td>\n",
              "      <td>-2.258341e+00</td>\n",
              "      <td>-2.398735e+00</td>\n",
              "      <td>-1.887427e+00</td>\n",
              "      <td>-1.930322e+00</td>\n",
              "      <td>-2.101144e+00</td>\n",
              "      <td>1.965002e-01</td>\n",
              "    </tr>\n",
              "    <tr>\n",
              "      <th>9</th>\n",
              "      <td>0.007288</td>\n",
              "      <td>0.000176</td>\n",
              "      <td>0.000954</td>\n",
              "      <td>0.000053</td>\n",
              "      <td>8</td>\n",
              "      <td>3</td>\n",
              "      <td>NaN</td>\n",
              "      <td>{'max_features': 8, 'n_estimators': 3}</td>\n",
              "      <td>-22.863992</td>\n",
              "      <td>-14.222524</td>\n",
              "      <td>-13.140110</td>\n",
              "      <td>-23.113813</td>\n",
              "      <td>-23.911972</td>\n",
              "      <td>-19.450482</td>\n",
              "      <td>4.735595</td>\n",
              "      <td>15</td>\n",
              "      <td>-4.924537e+00</td>\n",
              "      <td>-6.087929e+00</td>\n",
              "      <td>-6.750568e+00</td>\n",
              "      <td>-4.054025e+00</td>\n",
              "      <td>-5.313597e+00</td>\n",
              "      <td>-5.426131e+00</td>\n",
              "      <td>9.315626e-01</td>\n",
              "    </tr>\n",
              "    <tr>\n",
              "      <th>10</th>\n",
              "      <td>0.022011</td>\n",
              "      <td>0.001444</td>\n",
              "      <td>0.001575</td>\n",
              "      <td>0.000279</td>\n",
              "      <td>8</td>\n",
              "      <td>10</td>\n",
              "      <td>NaN</td>\n",
              "      <td>{'max_features': 8, 'n_estimators': 10}</td>\n",
              "      <td>-15.915063</td>\n",
              "      <td>-7.728052</td>\n",
              "      <td>-7.532960</td>\n",
              "      <td>-21.822764</td>\n",
              "      <td>-15.864399</td>\n",
              "      <td>-13.772648</td>\n",
              "      <td>5.463343</td>\n",
              "      <td>10</td>\n",
              "      <td>-2.630969e+00</td>\n",
              "      <td>-3.818019e+00</td>\n",
              "      <td>-3.797853e+00</td>\n",
              "      <td>-2.602255e+00</td>\n",
              "      <td>-2.865405e+00</td>\n",
              "      <td>-3.142900e+00</td>\n",
              "      <td>5.506584e-01</td>\n",
              "    </tr>\n",
              "    <tr>\n",
              "      <th>11</th>\n",
              "      <td>0.066530</td>\n",
              "      <td>0.004156</td>\n",
              "      <td>0.002970</td>\n",
              "      <td>0.000582</td>\n",
              "      <td>8</td>\n",
              "      <td>30</td>\n",
              "      <td>NaN</td>\n",
              "      <td>{'max_features': 8, 'n_estimators': 30}</td>\n",
              "      <td>-14.324190</td>\n",
              "      <td>-6.787082</td>\n",
              "      <td>-6.367623</td>\n",
              "      <td>-20.470172</td>\n",
              "      <td>-15.161843</td>\n",
              "      <td>-12.622182</td>\n",
              "      <td>5.368530</td>\n",
              "      <td>6</td>\n",
              "      <td>-2.161456e+00</td>\n",
              "      <td>-2.522080e+00</td>\n",
              "      <td>-2.636756e+00</td>\n",
              "      <td>-2.004995e+00</td>\n",
              "      <td>-2.196134e+00</td>\n",
              "      <td>-2.304284e+00</td>\n",
              "      <td>2.364920e-01</td>\n",
              "    </tr>\n",
              "    <tr>\n",
              "      <th>12</th>\n",
              "      <td>0.005282</td>\n",
              "      <td>0.000134</td>\n",
              "      <td>0.001021</td>\n",
              "      <td>0.000022</td>\n",
              "      <td>2</td>\n",
              "      <td>3</td>\n",
              "      <td>False</td>\n",
              "      <td>{'bootstrap': False, 'max_features': 2, 'n_est...</td>\n",
              "      <td>-18.192524</td>\n",
              "      <td>-19.569026</td>\n",
              "      <td>-7.094842</td>\n",
              "      <td>-25.286763</td>\n",
              "      <td>-23.990708</td>\n",
              "      <td>-18.826773</td>\n",
              "      <td>6.434114</td>\n",
              "      <td>14</td>\n",
              "      <td>-2.525332e-30</td>\n",
              "      <td>-2.376352e-30</td>\n",
              "      <td>-2.662100e-30</td>\n",
              "      <td>-2.554639e-30</td>\n",
              "      <td>-2.515103e-30</td>\n",
              "      <td>-2.526705e-30</td>\n",
              "      <td>9.149291e-32</td>\n",
              "    </tr>\n",
              "    <tr>\n",
              "      <th>13</th>\n",
              "      <td>0.014340</td>\n",
              "      <td>0.000653</td>\n",
              "      <td>0.001537</td>\n",
              "      <td>0.000011</td>\n",
              "      <td>2</td>\n",
              "      <td>10</td>\n",
              "      <td>False</td>\n",
              "      <td>{'bootstrap': False, 'max_features': 2, 'n_est...</td>\n",
              "      <td>-13.235801</td>\n",
              "      <td>-7.449119</td>\n",
              "      <td>-4.678149</td>\n",
              "      <td>-18.660142</td>\n",
              "      <td>-13.568271</td>\n",
              "      <td>-11.518296</td>\n",
              "      <td>4.929584</td>\n",
              "      <td>3</td>\n",
              "      <td>-1.022100e-29</td>\n",
              "      <td>-5.572755e-06</td>\n",
              "      <td>-1.011110e-29</td>\n",
              "      <td>-1.021123e-29</td>\n",
              "      <td>-8.888889e-05</td>\n",
              "      <td>-1.889233e-05</td>\n",
              "      <td>3.506477e-05</td>\n",
              "    </tr>\n",
              "    <tr>\n",
              "      <th>14</th>\n",
              "      <td>0.005629</td>\n",
              "      <td>0.000124</td>\n",
              "      <td>0.000981</td>\n",
              "      <td>0.000040</td>\n",
              "      <td>3</td>\n",
              "      <td>3</td>\n",
              "      <td>False</td>\n",
              "      <td>{'bootstrap': False, 'max_features': 3, 'n_est...</td>\n",
              "      <td>-16.741331</td>\n",
              "      <td>-11.640988</td>\n",
              "      <td>-11.043841</td>\n",
              "      <td>-23.764458</td>\n",
              "      <td>-22.119500</td>\n",
              "      <td>-17.062023</td>\n",
              "      <td>5.219381</td>\n",
              "      <td>13</td>\n",
              "      <td>-2.525332e-30</td>\n",
              "      <td>-2.376352e-30</td>\n",
              "      <td>-2.662100e-30</td>\n",
              "      <td>-2.554639e-30</td>\n",
              "      <td>-2.515103e-30</td>\n",
              "      <td>-2.526705e-30</td>\n",
              "      <td>9.149291e-32</td>\n",
              "    </tr>\n",
              "    <tr>\n",
              "      <th>15</th>\n",
              "      <td>0.017093</td>\n",
              "      <td>0.000999</td>\n",
              "      <td>0.001659</td>\n",
              "      <td>0.000162</td>\n",
              "      <td>3</td>\n",
              "      <td>10</td>\n",
              "      <td>False</td>\n",
              "      <td>{'bootstrap': False, 'max_features': 3, 'n_est...</td>\n",
              "      <td>-13.871690</td>\n",
              "      <td>-5.673881</td>\n",
              "      <td>-6.912177</td>\n",
              "      <td>-17.004801</td>\n",
              "      <td>-13.545418</td>\n",
              "      <td>-11.401593</td>\n",
              "      <td>4.360157</td>\n",
              "      <td>2</td>\n",
              "      <td>-1.022100e-29</td>\n",
              "      <td>-1.022588e-29</td>\n",
              "      <td>-1.011110e-29</td>\n",
              "      <td>-1.021123e-29</td>\n",
              "      <td>-1.020406e-29</td>\n",
              "      <td>-1.019465e-29</td>\n",
              "      <td>4.246075e-32</td>\n",
              "    </tr>\n",
              "    <tr>\n",
              "      <th>16</th>\n",
              "      <td>0.006895</td>\n",
              "      <td>0.000439</td>\n",
              "      <td>0.001118</td>\n",
              "      <td>0.000066</td>\n",
              "      <td>4</td>\n",
              "      <td>3</td>\n",
              "      <td>False</td>\n",
              "      <td>{'bootstrap': False, 'max_features': 4, 'n_est...</td>\n",
              "      <td>-15.057654</td>\n",
              "      <td>-9.689808</td>\n",
              "      <td>-6.210178</td>\n",
              "      <td>-19.123237</td>\n",
              "      <td>-23.052847</td>\n",
              "      <td>-14.626745</td>\n",
              "      <td>6.109260</td>\n",
              "      <td>11</td>\n",
              "      <td>-2.525332e-30</td>\n",
              "      <td>-2.376352e-30</td>\n",
              "      <td>-2.662100e-30</td>\n",
              "      <td>-2.554639e-30</td>\n",
              "      <td>-2.515103e-30</td>\n",
              "      <td>-2.526705e-30</td>\n",
              "      <td>9.149291e-32</td>\n",
              "    </tr>\n",
              "    <tr>\n",
              "      <th>17</th>\n",
              "      <td>0.018083</td>\n",
              "      <td>0.000219</td>\n",
              "      <td>0.001557</td>\n",
              "      <td>0.000016</td>\n",
              "      <td>4</td>\n",
              "      <td>10</td>\n",
              "      <td>False</td>\n",
              "      <td>{'bootstrap': False, 'max_features': 4, 'n_est...</td>\n",
              "      <td>-13.244447</td>\n",
              "      <td>-6.562390</td>\n",
              "      <td>-5.490962</td>\n",
              "      <td>-17.564122</td>\n",
              "      <td>-13.123732</td>\n",
              "      <td>-11.197131</td>\n",
              "      <td>4.527318</td>\n",
              "      <td>1</td>\n",
              "      <td>-1.022100e-29</td>\n",
              "      <td>-1.022588e-29</td>\n",
              "      <td>-1.011110e-29</td>\n",
              "      <td>-1.021123e-29</td>\n",
              "      <td>-1.020406e-29</td>\n",
              "      <td>-1.019465e-29</td>\n",
              "      <td>4.246075e-32</td>\n",
              "    </tr>\n",
              "  </tbody>\n",
              "</table>\n",
              "</div>"
            ],
            "text/plain": [
              "    mean_fit_time  std_fit_time  ...  mean_train_score  std_train_score\n",
              "0        0.006865      0.001998  ...     -7.277082e+00     1.396002e+00\n",
              "1        0.015931      0.000299  ...     -3.556267e+00     6.425674e-01\n",
              "2        0.046112      0.001515  ...     -2.391793e+00     2.447788e-01\n",
              "3        0.006234      0.000188  ...     -6.835285e+00     1.262987e+00\n",
              "4        0.018699      0.000810  ...     -3.049496e+00     4.706664e-01\n",
              "5        0.050317      0.000962  ...     -2.081134e+00     1.597713e-01\n",
              "6        0.006766      0.000205  ...     -6.293221e+00     1.905917e+00\n",
              "7        0.020003      0.000492  ...     -2.914237e+00     3.115691e-01\n",
              "8        0.058118      0.001781  ...     -2.101144e+00     1.965002e-01\n",
              "9        0.007288      0.000176  ...     -5.426131e+00     9.315626e-01\n",
              "10       0.022011      0.001444  ...     -3.142900e+00     5.506584e-01\n",
              "11       0.066530      0.004156  ...     -2.304284e+00     2.364920e-01\n",
              "12       0.005282      0.000134  ...     -2.526705e-30     9.149291e-32\n",
              "13       0.014340      0.000653  ...     -1.889233e-05     3.506477e-05\n",
              "14       0.005629      0.000124  ...     -2.526705e-30     9.149291e-32\n",
              "15       0.017093      0.000999  ...     -1.019465e-29     4.246075e-32\n",
              "16       0.006895      0.000439  ...     -2.526705e-30     9.149291e-32\n",
              "17       0.018083      0.000219  ...     -1.019465e-29     4.246075e-32\n",
              "\n",
              "[18 rows x 23 columns]"
            ]
          },
          "metadata": {
            "tags": []
          },
          "execution_count": 148
        }
      ]
    },
    {
      "cell_type": "markdown",
      "metadata": {
        "id": "ZKVA2nhvfeQK",
        "colab_type": "text"
      },
      "source": [
        "The grid search approach is fine when you are exploring relatively few combinations, like in the previous example, but when the hyperparameter search space is large, it is often preferable to use RandomizedSearchCV instead. This class can be used in much the same way as the GridSearchCV class, but instead of trying out all possible combinations, it evaluates a given number of random combinations by selecting a random value for each hyperparameter at every iteration.\n"
      ]
    },
    {
      "cell_type": "code",
      "metadata": {
        "id": "oqjBWPQcHq2d",
        "colab_type": "code",
        "colab": {
          "base_uri": "https://localhost:8080/",
          "height": 411
        },
        "outputId": "62e052f5-40cf-41a8-8fac-bcc4e3772128"
      },
      "source": [
        "from sklearn.model_selection import RandomizedSearchCV\n",
        "from scipy.stats import randint\n",
        "\n",
        "param_distribs = {\n",
        "        'n_estimators': randint(low=1, high=200),\n",
        "        'max_features': randint(low=1, high=8),\n",
        "    }\n",
        "\n",
        "forest_reg = RandomForestRegressor(random_state=42)\n",
        "rnd_search = RandomizedSearchCV(forest_reg, param_distributions=param_distribs,\n",
        "                                n_iter=10, cv=5, scoring='neg_mean_squared_error', random_state=42)\n",
        "rnd_search.fit(housing_prepared, housing_labels)"
      ],
      "execution_count": null,
      "outputs": [
        {
          "output_type": "execute_result",
          "data": {
            "text/plain": [
              "RandomizedSearchCV(cv=5, error_score=nan,\n",
              "                   estimator=RandomForestRegressor(bootstrap=True,\n",
              "                                                   ccp_alpha=0.0,\n",
              "                                                   criterion='mse',\n",
              "                                                   max_depth=None,\n",
              "                                                   max_features='auto',\n",
              "                                                   max_leaf_nodes=None,\n",
              "                                                   max_samples=None,\n",
              "                                                   min_impurity_decrease=0.0,\n",
              "                                                   min_impurity_split=None,\n",
              "                                                   min_samples_leaf=1,\n",
              "                                                   min_samples_split=2,\n",
              "                                                   min_weight_fraction_leaf=0.0,\n",
              "                                                   n_estimators=100,\n",
              "                                                   n_jobs=None, oob_score=Fals...\n",
              "                                                   warm_start=False),\n",
              "                   iid='deprecated', n_iter=10, n_jobs=None,\n",
              "                   param_distributions={'max_features': <scipy.stats._distn_infrastructure.rv_frozen object at 0x7f5bf5ea2d30>,\n",
              "                                        'n_estimators': <scipy.stats._distn_infrastructure.rv_frozen object at 0x7f5bf5ea27f0>},\n",
              "                   pre_dispatch='2*n_jobs', random_state=42, refit=True,\n",
              "                   return_train_score=False, scoring='neg_mean_squared_error',\n",
              "                   verbose=0)"
            ]
          },
          "metadata": {
            "tags": []
          },
          "execution_count": 149
        }
      ]
    },
    {
      "cell_type": "code",
      "metadata": {
        "id": "khFsw9lpHq2e",
        "colab_type": "code",
        "colab": {
          "base_uri": "https://localhost:8080/",
          "height": 207
        },
        "outputId": "82d7c3b9-f767-4601-f0d2-01c3c26336ad"
      },
      "source": [
        "cvres = rnd_search.cv_results_\n",
        "for mean_score, params in zip(cvres[\"mean_test_score\"], cvres[\"params\"]):\n",
        "    print(np.sqrt(-mean_score), params)"
      ],
      "execution_count": null,
      "outputs": [
        {
          "output_type": "stream",
          "text": [
            "3.439478893137255 {'max_features': 7, 'n_estimators': 180}\n",
            "3.4113513403163545 {'max_features': 5, 'n_estimators': 15}\n",
            "3.4134431708986583 {'max_features': 3, 'n_estimators': 72}\n",
            "3.406254519830759 {'max_features': 5, 'n_estimators': 21}\n",
            "3.4579003567780613 {'max_features': 7, 'n_estimators': 122}\n",
            "3.4071177879009404 {'max_features': 3, 'n_estimators': 75}\n",
            "3.4260849135505964 {'max_features': 3, 'n_estimators': 88}\n",
            "3.3766217834390413 {'max_features': 5, 'n_estimators': 100}\n",
            "3.3839186887459167 {'max_features': 3, 'n_estimators': 150}\n",
            "4.4583463395448915 {'max_features': 5, 'n_estimators': 2}\n"
          ],
          "name": "stdout"
        }
      ]
    },
    {
      "cell_type": "markdown",
      "metadata": {
        "id": "aZfu9SSdf0y7",
        "colab_type": "text"
      },
      "source": [
        "You will often gain good insights on the problem by inspecting the best models. For example, the RandomForestRegressor can indicate the relative importance of each attribute for making accurate predictions:"
      ]
    },
    {
      "cell_type": "code",
      "metadata": {
        "id": "FN7T34oZHq2e",
        "colab_type": "code",
        "colab": {
          "base_uri": "https://localhost:8080/",
          "height": 88
        },
        "outputId": "76a62127-8324-464e-ac90-490ea39cea7d"
      },
      "source": [
        "feature_importances = grid_search.best_estimator_.feature_importances_\n",
        "feature_importances"
      ],
      "execution_count": null,
      "outputs": [
        {
          "output_type": "execute_result",
          "data": {
            "text/plain": [
              "array([0.1028997 , 0.02709673, 0.01272348, 0.00192676, 0.08506018,\n",
              "       0.27580029, 0.03112676, 0.06110624, 0.00509226, 0.02834636,\n",
              "       0.06121261, 0.0182915 , 0.28931714])"
            ]
          },
          "metadata": {
            "tags": []
          },
          "execution_count": 151
        }
      ]
    },
    {
      "cell_type": "markdown",
      "metadata": {
        "id": "9fjZbal6gAH6",
        "colab_type": "text"
      },
      "source": [
        "Let’s display these importance scores next to their corresponding attribute names:\n",
        "\n"
      ]
    },
    {
      "cell_type": "code",
      "metadata": {
        "id": "BhmV9nyQHq2f",
        "colab_type": "code",
        "colab": {
          "base_uri": "https://localhost:8080/",
          "height": 258
        },
        "outputId": "19a962a4-af45-431c-e06c-5e03ed1055f9"
      },
      "source": [
        "extra_attribs = [\"total_lland\", \"tax_perc\", \"cost_per_rroom\"]\n",
        "attributes = num_attribs + extra_attribs \n",
        "sorted(zip(feature_importances, attributes), reverse=True)"
      ],
      "execution_count": null,
      "outputs": [
        {
          "output_type": "execute_result",
          "data": {
            "text/plain": [
              "[(0.28931714364349864, 'LSTAT%'),\n",
              " (0.275800289102247, 'RM'),\n",
              " (0.1028997040412826, 'CRIM'),\n",
              " (0.08506018460006808, 'NOX'),\n",
              " (0.06121260774393883, 'PTRATIO'),\n",
              " (0.061106235088923426, 'DIS'),\n",
              " (0.03112675848151803, 'AGE'),\n",
              " (0.0283463596328018, 'TAX'),\n",
              " (0.02709672590015387, 'ZN'),\n",
              " (0.018291499463887695, 'B1000(BK0.63)^2'),\n",
              " (0.012723475889952724, 'INDUS'),\n",
              " (0.005092257271529329, 'RAD'),\n",
              " (0.0019267591401981362, 'CHAS')]"
            ]
          },
          "metadata": {
            "tags": []
          },
          "execution_count": 152
        }
      ]
    },
    {
      "cell_type": "markdown",
      "metadata": {
        "id": "MxawoFxGgXWE",
        "colab_type": "text"
      },
      "source": [
        "After tweaking your models for a while, you eventually have a system that performs sufficiently well. Now is the time to evaluate the final model on the test set. "
      ]
    },
    {
      "cell_type": "code",
      "metadata": {
        "id": "ty10uWkgHq2g",
        "colab_type": "code",
        "colab": {}
      },
      "source": [
        "final_model = grid_search.best_estimator_\n",
        "\n",
        "X_test = strat_test_set.drop(\"MEDV\", axis=1)\n",
        "y_test = strat_test_set[\"MEDV\"].copy()\n",
        "\n",
        "X_test_prepared = full_pipeline.transform(X_test)\n",
        "final_predictions = final_model.predict(X_test_prepared)\n",
        "\n",
        "final_mse = mean_squared_error(y_test, final_predictions)\n",
        "final_rmse = np.sqrt(final_mse)"
      ],
      "execution_count": null,
      "outputs": []
    },
    {
      "cell_type": "code",
      "metadata": {
        "id": "ppn92b_xHq2h",
        "colab_type": "code",
        "colab": {
          "base_uri": "https://localhost:8080/",
          "height": 54
        },
        "outputId": "b861bcec-5d31-442f-ec79-5b96b1e8a9f3"
      },
      "source": [
        "final_rmse"
      ],
      "execution_count": null,
      "outputs": [
        {
          "output_type": "execute_result",
          "data": {
            "text/plain": [
              "4.263119197737455"
            ]
          },
          "metadata": {
            "tags": []
          },
          "execution_count": 154
        }
      ]
    },
    {
      "cell_type": "code",
      "metadata": {
        "id": "LDGxbTVVWxGu",
        "colab_type": "code",
        "colab": {
          "base_uri": "https://localhost:8080/",
          "height": 54
        },
        "outputId": "33591f11-aba2-442b-aba7-ebbb07163b9d"
      },
      "source": [
        "from sklearn.metrics import mean_absolute_error\n",
        "\n",
        "lin_mae = mean_absolute_error(y_test, final_predictions)\n",
        "lin_mae"
      ],
      "execution_count": null,
      "outputs": [
        {
          "output_type": "execute_result",
          "data": {
            "text/plain": [
              "2.5157843137254896"
            ]
          },
          "metadata": {
            "tags": []
          },
          "execution_count": 155
        }
      ]
    },
    {
      "cell_type": "markdown",
      "metadata": {
        "id": "-GQkgdybHq2i",
        "colab_type": "text"
      },
      "source": [
        "We can compute a 95% confidence interval for the test RMSE:"
      ]
    },
    {
      "cell_type": "code",
      "metadata": {
        "id": "nTeAqbiWHq2i",
        "colab_type": "code",
        "colab": {
          "base_uri": "https://localhost:8080/",
          "height": 54
        },
        "outputId": "dce5ba20-4e6e-4bbc-bb4b-08c583c78dec"
      },
      "source": [
        "from scipy import stats\n",
        "\n",
        "confidence = 0.95\n",
        "squared_errors = (final_predictions - y_test) ** 2\n",
        "np.sqrt(stats.t.interval(confidence, len(squared_errors) - 1,\n",
        "                         loc=squared_errors.mean(),\n",
        "                         scale=stats.sem(squared_errors)))"
      ],
      "execution_count": null,
      "outputs": [
        {
          "output_type": "execute_result",
          "data": {
            "text/plain": [
              "array([1.94518303, 5.70654305])"
            ]
          },
          "metadata": {
            "tags": []
          },
          "execution_count": 156
        }
      ]
    },
    {
      "cell_type": "markdown",
      "metadata": {
        "id": "9ULZcHull0Wu",
        "colab_type": "text"
      },
      "source": [
        "# Step 7. Present your solution (see the slides)"
      ]
    },
    {
      "cell_type": "markdown",
      "metadata": {
        "id": "dAotmtARWu95",
        "colab_type": "text"
      },
      "source": [
        "In **step 1**, I went through to set up the enviroment we are going to work in, create the image folder incase we wanted to use that later."
      ]
    },
    {
      "cell_type": "markdown",
      "metadata": {
        "id": "vN7F84qLXCqZ",
        "colab_type": "text"
      },
      "source": [
        "In **step 2**, we create the datasets/housing folders but since kaggle requires login, we cant fetch the data in feel time. So you must insert the housing.csv file in to the housing folder after it gets created.\n",
        "We later go on to what our dat looks like and use some visualization tool to mainly vidualize the distance from a job center"
      ]
    },
    {
      "cell_type": "markdown",
      "metadata": {
        "id": "7bREFwe7X2KE",
        "colab_type": "text"
      },
      "source": [
        "In **step 3**, we created graphs to show how the median house value can be affected depending on the values of other attributes. For example we saw that based on our data set, home values increase as the LSTAT% decreases and number of rooms increase. We makes sense. Then we visualize the relations between LSTAT% and medv; then tax% and medv. Step 3 is a good way to understand the data."
      ]
    },
    {
      "cell_type": "markdown",
      "metadata": {
        "id": "iCZXdo4GaEVF",
        "colab_type": "text"
      },
      "source": [
        "In **step 4**, we organize our data in medv as our label and everything else as the features. Then we check to see if there are any null values. we did not have any. We then represent the categories as numerical values but we dont have any string catagorical values.I then go some errors with values being too high so I checked for infinity and my largest value. I then created a pipeline to ensure our attributes we either numerical or catagorical. "
      ]
    },
    {
      "cell_type": "markdown",
      "metadata": {
        "id": "FPnzVoXBjUdp",
        "colab_type": "text"
      },
      "source": [
        "In **step 5**, we train the model on the train set, not the test set just yet. We also measure our mean square error to determine how cost effective our algorithm is."
      ]
    },
    {
      "cell_type": "markdown",
      "metadata": {
        "id": "uRVaedj4ljTd",
        "colab_type": "text"
      },
      "source": [
        "In step 6, we use different machine learning algorithms to minimize the cost of our algorithm. we want achieve the lowest mean square error in these algorithms, and we can see this by testing out different algorithms."
      ]
    },
    {
      "cell_type": "markdown",
      "metadata": {
        "id": "Bk_O2Rfol7K1",
        "colab_type": "text"
      },
      "source": [
        "# Step 8. Launch, maintain, and update (see the slides)"
      ]
    }
  ]
}